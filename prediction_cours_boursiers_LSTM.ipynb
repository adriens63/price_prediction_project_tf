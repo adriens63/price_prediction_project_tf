{
 "cells": [
  {
   "cell_type": "code",
   "execution_count": 1,
   "id": "0bdc5e3d",
   "metadata": {
    "id": "0bdc5e3d"
   },
   "outputs": [],
   "source": [
    "import tensorflow as tf\n",
    "from tensorflow.python.client import device_lib\n",
    "import numpy as np\n",
    "import pandas as pd\n",
    "import sklearn\n",
    "import sklearn.model_selection\n",
    "import os\n",
    "\n",
    "from sklearn import preprocessing as pp\n",
    "\n",
    "from yahoo_fin import stock_info as si\n",
    "import talib as tlb"
   ]
  },
  {
   "cell_type": "markdown",
   "id": "c39c1586",
   "metadata": {},
   "source": [
    "# Price prediction\n",
    "\n",
    "![logo](jupyter_logo.png)"
   ]
  },
  {
   "cell_type": "markdown",
   "id": "dbaafd1b",
   "metadata": {
    "id": "246d37d2"
   },
   "source": [
    "# Utilisation du GPU"
   ]
  },
  {
   "cell_type": "code",
   "execution_count": 2,
   "id": "d717717c",
   "metadata": {
    "id": "ce93cd8c",
    "outputId": "44f29ef5-8e64-41d8-b95d-d23bd29e1ee9"
   },
   "outputs": [
    {
     "name": "stdout",
     "output_type": "stream",
     "text": [
      "[name: \"/device:CPU:0\"\n",
      "device_type: \"CPU\"\n",
      "memory_limit: 268435456\n",
      "locality {\n",
      "}\n",
      "incarnation: 17014453418023344500\n",
      ", name: \"/device:GPU:0\"\n",
      "device_type: \"GPU\"\n",
      "memory_limit: 4112973824\n",
      "locality {\n",
      "  bus_id: 1\n",
      "  links {\n",
      "  }\n",
      "}\n",
      "incarnation: 1193734625003299353\n",
      "physical_device_desc: \"device: 0, name: NVIDIA GeForce GTX 1660 Ti, pci bus id: 0000:01:00.0, compute capability: 7.5\"\n",
      "]\n"
     ]
    }
   ],
   "source": [
    "print(device_lib.list_local_devices())"
   ]
  },
  {
   "cell_type": "code",
   "execution_count": 3,
   "id": "f3e6f8fc",
   "metadata": {},
   "outputs": [
    {
     "data": {
      "text/plain": [
       "[PhysicalDevice(name='/physical_device:CPU:0', device_type='CPU'),\n",
       " PhysicalDevice(name='/physical_device:GPU:0', device_type='GPU')]"
      ]
     },
     "execution_count": 3,
     "metadata": {},
     "output_type": "execute_result"
    }
   ],
   "source": [
    "tf.config.list_physical_devices()"
   ]
  },
  {
   "cell_type": "code",
   "execution_count": 4,
   "id": "32e07065",
   "metadata": {
    "id": "32e07065",
    "outputId": "3a8091fe-85d3-4f8e-b22e-1898b9c0732c"
   },
   "outputs": [
    {
     "name": "stdout",
     "output_type": "stream",
     "text": [
      "Num GPUs Available:  1\n"
     ]
    }
   ],
   "source": [
    "print(\"Num GPUs Available: \", len(tf.config.list_physical_devices('GPU')))"
   ]
  },
  {
   "cell_type": "markdown",
   "id": "f72f0cb9",
   "metadata": {
    "id": "e4a7e99e"
   },
   "source": [
    "# Importation des données"
   ]
  },
  {
   "cell_type": "code",
   "execution_count": 5,
   "id": "54278531",
   "metadata": {
    "id": "54278531"
   },
   "outputs": [],
   "source": [
    "possible_features = ['open', 'high', 'low', 'close', 'volume', 'close 7 days mean', 'close 14 days mean', 'close 20 days mean', 'close 50 days mean', 'ema', 'upperband', 'middleband', 'lowerband', 'rsi', 'macd', 'bop', 'obv', 'natr', 'sine', 'leadsine', 'CDLKICKINGBYLENGTH', 'CDLTAKURI', 'CDLHARAMI', 'CDLDOJI', 'CDLDRAGONFLYDOJI', 'CDLLONGLEGGEDDOJI']"
   ]
  },
  {
   "cell_type": "markdown",
   "id": "9d42dfc3",
   "metadata": {},
   "source": [
    "Paramètres"
   ]
  },
  {
   "cell_type": "code",
   "execution_count": 6,
   "id": "4901c524",
   "metadata": {
    "id": "4901c524"
   },
   "outputs": [],
   "source": [
    "ticker = 'KO' #choix de l'action à étudier\n",
    "\n",
    "n = 60 #nombre de jours considérés par le modèle précédant la date voulue\n",
    "days_predicted = 2 #on prévoit le prix de l'action à la date t + days_predicted\n",
    "test_size = 0.2 #part des données réservée au test du modèle\n",
    "shffl = False\n",
    "features = possible_features #liste d'indicateurs financiers utiles à la prédiction\n",
    "\n",
    "\n"
   ]
  },
  {
   "cell_type": "markdown",
   "id": "b86dd552",
   "metadata": {},
   "source": [
    "Chargement de la dataset avec pandas"
   ]
  },
  {
   "cell_type": "code",
   "execution_count": 7,
   "id": "40402331",
   "metadata": {
    "id": "40402331",
    "outputId": "65bfb350-61a3-4b09-8a3c-2c1f057ac95a"
   },
   "outputs": [
    {
     "data": {
      "text/html": [
       "<div>\n",
       "<style scoped>\n",
       "    .dataframe tbody tr th:only-of-type {\n",
       "        vertical-align: middle;\n",
       "    }\n",
       "\n",
       "    .dataframe tbody tr th {\n",
       "        vertical-align: top;\n",
       "    }\n",
       "\n",
       "    .dataframe thead th {\n",
       "        text-align: right;\n",
       "    }\n",
       "</style>\n",
       "<table border=\"1\" class=\"dataframe\">\n",
       "  <thead>\n",
       "    <tr style=\"text-align: right;\">\n",
       "      <th></th>\n",
       "      <th>open</th>\n",
       "      <th>high</th>\n",
       "      <th>low</th>\n",
       "      <th>close</th>\n",
       "      <th>adjclose</th>\n",
       "      <th>volume</th>\n",
       "      <th>ticker</th>\n",
       "    </tr>\n",
       "  </thead>\n",
       "  <tbody>\n",
       "    <tr>\n",
       "      <th>1970-03-25</th>\n",
       "      <td>0.828125</td>\n",
       "      <td>0.842448</td>\n",
       "      <td>0.828125</td>\n",
       "      <td>0.828125</td>\n",
       "      <td>0.192157</td>\n",
       "      <td>1862400</td>\n",
       "      <td>KO</td>\n",
       "    </tr>\n",
       "    <tr>\n",
       "      <th>1970-03-26</th>\n",
       "      <td>0.828125</td>\n",
       "      <td>0.837240</td>\n",
       "      <td>0.828125</td>\n",
       "      <td>0.834635</td>\n",
       "      <td>0.193667</td>\n",
       "      <td>854400</td>\n",
       "      <td>KO</td>\n",
       "    </tr>\n",
       "    <tr>\n",
       "      <th>1970-03-30</th>\n",
       "      <td>0.835938</td>\n",
       "      <td>0.846354</td>\n",
       "      <td>0.835938</td>\n",
       "      <td>0.838542</td>\n",
       "      <td>0.194574</td>\n",
       "      <td>1008000</td>\n",
       "      <td>KO</td>\n",
       "    </tr>\n",
       "    <tr>\n",
       "      <th>1970-03-31</th>\n",
       "      <td>0.837240</td>\n",
       "      <td>0.837240</td>\n",
       "      <td>0.829427</td>\n",
       "      <td>0.835938</td>\n",
       "      <td>0.193969</td>\n",
       "      <td>710400</td>\n",
       "      <td>KO</td>\n",
       "    </tr>\n",
       "    <tr>\n",
       "      <th>1970-04-01</th>\n",
       "      <td>0.835938</td>\n",
       "      <td>0.838542</td>\n",
       "      <td>0.833333</td>\n",
       "      <td>0.837240</td>\n",
       "      <td>0.194271</td>\n",
       "      <td>940800</td>\n",
       "      <td>KO</td>\n",
       "    </tr>\n",
       "  </tbody>\n",
       "</table>\n",
       "</div>"
      ],
      "text/plain": [
       "                open      high       low     close  adjclose   volume ticker\n",
       "1970-03-25  0.828125  0.842448  0.828125  0.828125  0.192157  1862400     KO\n",
       "1970-03-26  0.828125  0.837240  0.828125  0.834635  0.193667   854400     KO\n",
       "1970-03-30  0.835938  0.846354  0.835938  0.838542  0.194574  1008000     KO\n",
       "1970-03-31  0.837240  0.837240  0.829427  0.835938  0.193969   710400     KO\n",
       "1970-04-01  0.835938  0.838542  0.833333  0.837240  0.194271   940800     KO"
      ]
     },
     "execution_count": 7,
     "metadata": {},
     "output_type": "execute_result"
    }
   ],
   "source": [
    "df = si.get_data(ticker) \n",
    "df.head()"
   ]
  },
  {
   "cell_type": "code",
   "execution_count": 8,
   "id": "2519da8a",
   "metadata": {
    "id": "2519da8a",
    "outputId": "c5be9060-d52a-4047-98c4-f6b471547cd4"
   },
   "outputs": [
    {
     "data": {
      "text/html": [
       "<div>\n",
       "<style scoped>\n",
       "    .dataframe tbody tr th:only-of-type {\n",
       "        vertical-align: middle;\n",
       "    }\n",
       "\n",
       "    .dataframe tbody tr th {\n",
       "        vertical-align: top;\n",
       "    }\n",
       "\n",
       "    .dataframe thead th {\n",
       "        text-align: right;\n",
       "    }\n",
       "</style>\n",
       "<table border=\"1\" class=\"dataframe\">\n",
       "  <thead>\n",
       "    <tr style=\"text-align: right;\">\n",
       "      <th></th>\n",
       "      <th>open</th>\n",
       "      <th>high</th>\n",
       "      <th>low</th>\n",
       "      <th>close</th>\n",
       "      <th>volume</th>\n",
       "    </tr>\n",
       "  </thead>\n",
       "  <tbody>\n",
       "    <tr>\n",
       "      <th>1970-03-25</th>\n",
       "      <td>0.828125</td>\n",
       "      <td>0.842448</td>\n",
       "      <td>0.828125</td>\n",
       "      <td>0.828125</td>\n",
       "      <td>1862400.0</td>\n",
       "    </tr>\n",
       "    <tr>\n",
       "      <th>1970-03-26</th>\n",
       "      <td>0.828125</td>\n",
       "      <td>0.837240</td>\n",
       "      <td>0.828125</td>\n",
       "      <td>0.834635</td>\n",
       "      <td>854400.0</td>\n",
       "    </tr>\n",
       "    <tr>\n",
       "      <th>1970-03-30</th>\n",
       "      <td>0.835938</td>\n",
       "      <td>0.846354</td>\n",
       "      <td>0.835938</td>\n",
       "      <td>0.838542</td>\n",
       "      <td>1008000.0</td>\n",
       "    </tr>\n",
       "    <tr>\n",
       "      <th>1970-03-31</th>\n",
       "      <td>0.837240</td>\n",
       "      <td>0.837240</td>\n",
       "      <td>0.829427</td>\n",
       "      <td>0.835938</td>\n",
       "      <td>710400.0</td>\n",
       "    </tr>\n",
       "    <tr>\n",
       "      <th>1970-04-01</th>\n",
       "      <td>0.835938</td>\n",
       "      <td>0.838542</td>\n",
       "      <td>0.833333</td>\n",
       "      <td>0.837240</td>\n",
       "      <td>940800.0</td>\n",
       "    </tr>\n",
       "  </tbody>\n",
       "</table>\n",
       "</div>"
      ],
      "text/plain": [
       "                open      high       low     close     volume\n",
       "1970-03-25  0.828125  0.842448  0.828125  0.828125  1862400.0\n",
       "1970-03-26  0.828125  0.837240  0.828125  0.834635   854400.0\n",
       "1970-03-30  0.835938  0.846354  0.835938  0.838542  1008000.0\n",
       "1970-03-31  0.837240  0.837240  0.829427  0.835938   710400.0\n",
       "1970-04-01  0.835938  0.838542  0.833333  0.837240   940800.0"
      ]
     },
     "execution_count": 8,
     "metadata": {},
     "output_type": "execute_result"
    }
   ],
   "source": [
    "df.drop(columns=['ticker', 'adjclose'], inplace = True)\n",
    "df = df.astype(np.float64)\n",
    "df.head()"
   ]
  },
  {
   "cell_type": "code",
   "execution_count": 9,
   "id": "322736a7",
   "metadata": {
    "id": "322736a7",
    "outputId": "53a1540a-465c-463d-cb01-3efc930c337b"
   },
   "outputs": [
    {
     "name": "stdout",
     "output_type": "stream",
     "text": [
      "<class 'pandas.core.frame.DataFrame'>\n",
      "DatetimeIndex: 13095 entries, 1970-03-25 to 2022-02-18\n",
      "Data columns (total 5 columns):\n",
      " #   Column  Non-Null Count  Dtype  \n",
      "---  ------  --------------  -----  \n",
      " 0   open    13095 non-null  float64\n",
      " 1   high    13095 non-null  float64\n",
      " 2   low     13095 non-null  float64\n",
      " 3   close   13095 non-null  float64\n",
      " 4   volume  13095 non-null  float64\n",
      "dtypes: float64(5)\n",
      "memory usage: 613.8 KB\n"
     ]
    }
   ],
   "source": [
    "df.info()"
   ]
  },
  {
   "cell_type": "markdown",
   "id": "c5bab611",
   "metadata": {},
   "source": [
    "Plot de certaines colonnes"
   ]
  },
  {
   "cell_type": "code",
   "execution_count": 10,
   "id": "4838c0a0",
   "metadata": {
    "id": "4838c0a0",
    "outputId": "eaf64ede-9cbe-457e-c53c-18fff7f63272"
   },
   "outputs": [
    {
     "data": {
      "text/plain": [
       "<AxesSubplot:>"
      ]
     },
     "execution_count": 10,
     "metadata": {},
     "output_type": "execute_result"
    },
    {
     "data": {
      "image/png": "[encoded data removed]",
      "text/plain": [
       "<Figure size 720x720 with 1 Axes>"
      ]
     },
     "metadata": {
      "needs_background": "light"
     },
     "output_type": "display_data"
    }
   ],
   "source": [
    "df['open'].plot(figsize = (10, 10))"
   ]
  },
  {
   "cell_type": "code",
   "execution_count": 11,
   "id": "61e77ca0",
   "metadata": {
    "id": "61e77ca0"
   },
   "outputs": [],
   "source": [
    "df.dropna(inplace = True)"
   ]
  },
  {
   "cell_type": "code",
   "execution_count": 12,
   "id": "1a28f3e0",
   "metadata": {
    "id": "1a28f3e0",
    "outputId": "1cf9a1ae-8ed7-41c9-b0dd-c7d357d3810e"
   },
   "outputs": [
    {
     "data": {
      "text/plain": [
       "(13095, 5)"
      ]
     },
     "execution_count": 12,
     "metadata": {},
     "output_type": "execute_result"
    }
   ],
   "source": [
    "df.shape"
   ]
  },
  {
   "cell_type": "markdown",
   "id": "f434ef75",
   "metadata": {
    "id": "1d9a2381"
   },
   "source": [
    "# Calibrage de la fenêtre \n",
    "\n",
    "Pour certaines action, le cours ne se comporte pas du tout pareil selon la période, il faut ajuster la fenêtre, en selectionnant la durée souhaitée avec la commande  \n",
    "``` \n",
    "df = df.iloc[n_supp:,:] \n",
    "``` \n",
    "\n",
    "où n_supp est le nombre de jours supprimés. Cet ajustement est à faire manuellement pour chaque action, dans le cas du btc, on garde tout car la période \n",
    "est assez récente.\n"
   ]
  },
  {
   "cell_type": "code",
   "execution_count": 13,
   "id": "070f8506",
   "metadata": {},
   "outputs": [],
   "source": [
    "df = df.iloc[8000:,:]"
   ]
  },
  {
   "cell_type": "markdown",
   "id": "18faff14",
   "metadata": {
    "id": "eaf45b72"
   },
   "source": [
    "# Indicateurs d'analyse technique"
   ]
  },
  {
   "cell_type": "markdown",
   "id": "d6242f76",
   "metadata": {},
   "source": [
    "yahoo_fin permet uniquement d'obtenir les 5 colonnes 'adjclose', 'volume', 'open', 'high', 'low', on rajoute donc nos features\n"
   ]
  },
  {
   "cell_type": "code",
   "execution_count": 14,
   "id": "0e526cba",
   "metadata": {
    "id": "0e526cba"
   },
   "outputs": [],
   "source": [
    "########Overlap Studies Functions\n",
    "\n",
    "#Moyennes mobiles :\n",
    "#7j\n",
    "df['close 7 days mean'] = df['close'].rolling(window = 7).mean()\n",
    "#14j\n",
    "df['close 14 days mean'] = df['close'].rolling(window = 14).mean()\n",
    "#20j\n",
    "df['close 20 days mean'] = df['close'].rolling(window = 20).mean()\n",
    "#50j\n",
    "df['close 50 days mean'] = df['close'].rolling(window = 50).mean()\n",
    "\n",
    "\n",
    "df['ema'] = tlb.EMA(df['close'], timeperiod=30)\n",
    "\n",
    "df['upperband'], df['middleband'], df['lowerband'] = tlb.BBANDS(df['close'], timeperiod=5, nbdevup=2, nbdevdn=2, matype=0)\n",
    "\n"
   ]
  },
  {
   "cell_type": "code",
   "execution_count": 15,
   "id": "58557380",
   "metadata": {
    "id": "58557380"
   },
   "outputs": [],
   "source": [
    "#######Momentum Indicator Functions : \n",
    "\n",
    "#RSI\n",
    "df['rsi'] = tlb.RSI(df['close'], timeperiod=14)\n",
    "\n",
    "#MACD\n",
    "df['macd'], df['macdsignal'], df['macdhist'] = tlb.MACD(df['close'], fastperiod=12, slowperiod=26, signalperiod=9)\n",
    "\n",
    "#balance of power\n",
    "df['bop'] = tlb.BOP(df['open'], df['high'], df['low'], df['close']) #balance of power"
   ]
  },
  {
   "cell_type": "code",
   "execution_count": 16,
   "id": "adcb433b",
   "metadata": {
    "id": "adcb433b"
   },
   "outputs": [],
   "source": [
    "##########Volume Indicator Functions\n",
    "\n",
    "df['obv'] = tlb.OBV(df['close'], df['volume']) #on balance volume"
   ]
  },
  {
   "cell_type": "code",
   "execution_count": 17,
   "id": "a447edef",
   "metadata": {
    "id": "a447edef"
   },
   "outputs": [],
   "source": [
    "##########Volatility Indicator Functions\n",
    "\n",
    "df['natr'] = tlb.NATR(df['high'], df['low'], df['close'], timeperiod=14) #Normalized Average True Range"
   ]
  },
  {
   "cell_type": "code",
   "execution_count": 18,
   "id": "1fdae446",
   "metadata": {
    "id": "1fdae446"
   },
   "outputs": [],
   "source": [
    "###########Cycle Indicator Functions très important apparament\n",
    "\n",
    "df['sine'], df['leadsine'] = tlb.HT_SINE(df['close'])"
   ]
  },
  {
   "cell_type": "code",
   "execution_count": 19,
   "id": "dcc3448d",
   "metadata": {
    "id": "dcc3448d"
   },
   "outputs": [],
   "source": [
    "###########Patern Recognition\n",
    "\n",
    "df['CDLKICKINGBYLENGTH'] = tlb.CDLKICKINGBYLENGTH(df['open'], df['high'], df['low'], df['close']) #bull / bear\n",
    "df['CDLTAKURI'] = tlb.CDLTAKURI(df['open'], df['high'], df['low'], df['close'])\n",
    "df['CDLHARAMI'] = tlb.CDLHARAMI(df['open'], df['high'], df['low'], df['close'])\n",
    "df['CDLDOJI'] = tlb.CDLDOJI(df['open'], df['high'], df['low'], df['close'])\n",
    "df['CDLDRAGONFLYDOJI'] = tlb.CDLDRAGONFLYDOJI(df['open'], df['high'], df['low'], df['close'])\n",
    "df['CDLLONGLEGGEDDOJI'] = tlb.CDLLONGLEGGEDDOJI(df['open'], df['high'], df['low'], df['close'])"
   ]
  },
  {
   "cell_type": "code",
   "execution_count": 51,
   "id": "b4d878a6",
   "metadata": {
    "id": "b4d878a6"
   },
   "outputs": [
    {
     "data": {
      "text/html": [
       "<div>\n",
       "<style scoped>\n",
       "    .dataframe tbody tr th:only-of-type {\n",
       "        vertical-align: middle;\n",
       "    }\n",
       "\n",
       "    .dataframe tbody tr th {\n",
       "        vertical-align: top;\n",
       "    }\n",
       "\n",
       "    .dataframe thead th {\n",
       "        text-align: right;\n",
       "    }\n",
       "</style>\n",
       "<table border=\"1\" class=\"dataframe\">\n",
       "  <thead>\n",
       "    <tr style=\"text-align: right;\">\n",
       "      <th></th>\n",
       "      <th>open</th>\n",
       "      <th>high</th>\n",
       "      <th>low</th>\n",
       "      <th>close</th>\n",
       "      <th>volume</th>\n",
       "      <th>close 7 days mean</th>\n",
       "      <th>close 14 days mean</th>\n",
       "      <th>close 20 days mean</th>\n",
       "      <th>close 50 days mean</th>\n",
       "      <th>ema</th>\n",
       "      <th>...</th>\n",
       "      <th>natr</th>\n",
       "      <th>sine</th>\n",
       "      <th>leadsine</th>\n",
       "      <th>CDLKICKINGBYLENGTH</th>\n",
       "      <th>CDLTAKURI</th>\n",
       "      <th>CDLHARAMI</th>\n",
       "      <th>CDLDOJI</th>\n",
       "      <th>CDLDRAGONFLYDOJI</th>\n",
       "      <th>CDLLONGLEGGEDDOJI</th>\n",
       "      <th>futur</th>\n",
       "    </tr>\n",
       "  </thead>\n",
       "  <tbody>\n",
       "    <tr>\n",
       "      <th>2002-02-27</th>\n",
       "      <td>0.112907</td>\n",
       "      <td>0.117901</td>\n",
       "      <td>0.112568</td>\n",
       "      <td>0.118282</td>\n",
       "      <td>0.049219</td>\n",
       "      <td>0.108061</td>\n",
       "      <td>0.093473</td>\n",
       "      <td>0.082156</td>\n",
       "      <td>0.074378</td>\n",
       "      <td>0.079308</td>\n",
       "      <td>...</td>\n",
       "      <td>0.206689</td>\n",
       "      <td>0.482840</td>\n",
       "      <td>0.134521</td>\n",
       "      <td>0.0</td>\n",
       "      <td>0.0</td>\n",
       "      <td>0.5</td>\n",
       "      <td>0.0</td>\n",
       "      <td>0.0</td>\n",
       "      <td>0.0</td>\n",
       "      <td>0.128849</td>\n",
       "    </tr>\n",
       "    <tr>\n",
       "      <th>2002-02-28</th>\n",
       "      <td>0.123796</td>\n",
       "      <td>0.118128</td>\n",
       "      <td>0.118892</td>\n",
       "      <td>0.117259</td>\n",
       "      <td>0.052112</td>\n",
       "      <td>0.109908</td>\n",
       "      <td>0.094761</td>\n",
       "      <td>0.084300</td>\n",
       "      <td>0.074665</td>\n",
       "      <td>0.080240</td>\n",
       "      <td>...</td>\n",
       "      <td>0.199334</td>\n",
       "      <td>0.521537</td>\n",
       "      <td>0.162004</td>\n",
       "      <td>0.0</td>\n",
       "      <td>0.0</td>\n",
       "      <td>0.5</td>\n",
       "      <td>0.0</td>\n",
       "      <td>0.0</td>\n",
       "      <td>0.0</td>\n",
       "      <td>0.121577</td>\n",
       "    </tr>\n",
       "    <tr>\n",
       "      <th>2002-03-01</th>\n",
       "      <td>0.113022</td>\n",
       "      <td>0.123239</td>\n",
       "      <td>0.114407</td>\n",
       "      <td>0.128849</td>\n",
       "      <td>0.057044</td>\n",
       "      <td>0.112477</td>\n",
       "      <td>0.096944</td>\n",
       "      <td>0.087122</td>\n",
       "      <td>0.075232</td>\n",
       "      <td>0.081919</td>\n",
       "      <td>...</td>\n",
       "      <td>0.203436</td>\n",
       "      <td>0.523058</td>\n",
       "      <td>0.163127</td>\n",
       "      <td>0.0</td>\n",
       "      <td>0.0</td>\n",
       "      <td>0.5</td>\n",
       "      <td>0.0</td>\n",
       "      <td>0.0</td>\n",
       "      <td>0.0</td>\n",
       "      <td>0.119645</td>\n",
       "    </tr>\n",
       "    <tr>\n",
       "      <th>2002-03-04</th>\n",
       "      <td>0.126204</td>\n",
       "      <td>0.122672</td>\n",
       "      <td>0.117167</td>\n",
       "      <td>0.121577</td>\n",
       "      <td>0.058180</td>\n",
       "      <td>0.115449</td>\n",
       "      <td>0.098334</td>\n",
       "      <td>0.088994</td>\n",
       "      <td>0.075551</td>\n",
       "      <td>0.082983</td>\n",
       "      <td>...</td>\n",
       "      <td>0.211305</td>\n",
       "      <td>0.550083</td>\n",
       "      <td>0.183639</td>\n",
       "      <td>0.0</td>\n",
       "      <td>0.0</td>\n",
       "      <td>0.0</td>\n",
       "      <td>0.0</td>\n",
       "      <td>0.0</td>\n",
       "      <td>0.0</td>\n",
       "      <td>0.118964</td>\n",
       "    </tr>\n",
       "    <tr>\n",
       "      <th>2002-03-05</th>\n",
       "      <td>0.119441</td>\n",
       "      <td>0.117219</td>\n",
       "      <td>0.117742</td>\n",
       "      <td>0.119645</td>\n",
       "      <td>0.053700</td>\n",
       "      <td>0.115952</td>\n",
       "      <td>0.099605</td>\n",
       "      <td>0.090762</td>\n",
       "      <td>0.075579</td>\n",
       "      <td>0.083843</td>\n",
       "      <td>...</td>\n",
       "      <td>0.204473</td>\n",
       "      <td>0.056885</td>\n",
       "      <td>0.022888</td>\n",
       "      <td>0.0</td>\n",
       "      <td>0.0</td>\n",
       "      <td>0.5</td>\n",
       "      <td>1.0</td>\n",
       "      <td>0.0</td>\n",
       "      <td>1.0</td>\n",
       "      <td>0.112260</td>\n",
       "    </tr>\n",
       "  </tbody>\n",
       "</table>\n",
       "<p>5 rows × 29 columns</p>\n",
       "</div>"
      ],
      "text/plain": [
       "                open      high       low     close    volume  \\\n",
       "2002-02-27  0.112907  0.117901  0.112568  0.118282  0.049219   \n",
       "2002-02-28  0.123796  0.118128  0.118892  0.117259  0.052112   \n",
       "2002-03-01  0.113022  0.123239  0.114407  0.128849  0.057044   \n",
       "2002-03-04  0.126204  0.122672  0.117167  0.121577  0.058180   \n",
       "2002-03-05  0.119441  0.117219  0.117742  0.119645  0.053700   \n",
       "\n",
       "            close 7 days mean  close 14 days mean  close 20 days mean  \\\n",
       "2002-02-27           0.108061            0.093473            0.082156   \n",
       "2002-02-28           0.109908            0.094761            0.084300   \n",
       "2002-03-01           0.112477            0.096944            0.087122   \n",
       "2002-03-04           0.115449            0.098334            0.088994   \n",
       "2002-03-05           0.115952            0.099605            0.090762   \n",
       "\n",
       "            close 50 days mean       ema  ...      natr      sine  leadsine  \\\n",
       "2002-02-27            0.074378  0.079308  ...  0.206689  0.482840  0.134521   \n",
       "2002-02-28            0.074665  0.080240  ...  0.199334  0.521537  0.162004   \n",
       "2002-03-01            0.075232  0.081919  ...  0.203436  0.523058  0.163127   \n",
       "2002-03-04            0.075551  0.082983  ...  0.211305  0.550083  0.183639   \n",
       "2002-03-05            0.075579  0.083843  ...  0.204473  0.056885  0.022888   \n",
       "\n",
       "            CDLKICKINGBYLENGTH  CDLTAKURI  CDLHARAMI  CDLDOJI  \\\n",
       "2002-02-27                 0.0        0.0        0.5      0.0   \n",
       "2002-02-28                 0.0        0.0        0.5      0.0   \n",
       "2002-03-01                 0.0        0.0        0.5      0.0   \n",
       "2002-03-04                 0.0        0.0        0.0      0.0   \n",
       "2002-03-05                 0.0        0.0        0.5      1.0   \n",
       "\n",
       "            CDLDRAGONFLYDOJI  CDLLONGLEGGEDDOJI     futur  \n",
       "2002-02-27               0.0                0.0  0.128849  \n",
       "2002-02-28               0.0                0.0  0.121577  \n",
       "2002-03-01               0.0                0.0  0.119645  \n",
       "2002-03-04               0.0                0.0  0.118964  \n",
       "2002-03-05               0.0                1.0  0.112260  \n",
       "\n",
       "[5 rows x 29 columns]"
      ]
     },
     "execution_count": 51,
     "metadata": {},
     "output_type": "execute_result"
    }
   ],
   "source": [
    "df.head()"
   ]
  },
  {
   "cell_type": "markdown",
   "id": "f0f2ab4a",
   "metadata": {
    "id": "8de02396"
   },
   "source": [
    "## Affiche de certains indicateurs\n",
    "Affichage des indicateurs"
   ]
  },
  {
   "cell_type": "code",
   "execution_count": 22,
   "id": "c0d47a21",
   "metadata": {
    "id": "c0d47a21",
    "scrolled": true
   },
   "outputs": [
    {
     "data": {
      "text/plain": [
       "<AxesSubplot:>"
      ]
     },
     "execution_count": 22,
     "metadata": {},
     "output_type": "execute_result"
    },
    {
     "data": {
      "image/png": "[encoded data removed]",
      "text/plain": [
       "<Figure size 720x720 with 1 Axes>"
      ]
     },
     "metadata": {
      "needs_background": "light"
     },
     "output_type": "display_data"
    }
   ],
   "source": [
    "df[['close', 'close 50 days mean']].plot(figsize = (10, 10))"
   ]
  },
  {
   "cell_type": "code",
   "execution_count": 23,
   "id": "c03edd4b",
   "metadata": {
    "id": "c03edd4b"
   },
   "outputs": [
    {
     "data": {
      "text/plain": [
       "<AxesSubplot:>"
      ]
     },
     "execution_count": 23,
     "metadata": {},
     "output_type": "execute_result"
    },
    {
     "data": {
      "image/png": "[encoded data removed]",
      "text/plain": [
       "<Figure size 720x720 with 1 Axes>"
      ]
     },
     "metadata": {
      "needs_background": "light"
     },
     "output_type": "display_data"
    }
   ],
   "source": [
    "df[['close', 'upperband', 'middleband', 'lowerband']].plot(figsize = (10, 10))"
   ]
  },
  {
   "cell_type": "markdown",
   "id": "7fc416ee",
   "metadata": {},
   "source": [
    "# Pre-processing"
   ]
  },
  {
   "cell_type": "markdown",
   "id": "752668e4",
   "metadata": {},
   "source": [
    "/!\\ il faut bien sauvegarder le scaler, car il dépend du min et du max de la colonne !, on ne pourra pas de-scale après sinon"
   ]
  },
  {
   "cell_type": "code",
   "execution_count": 24,
   "id": "158eb1fd",
   "metadata": {},
   "outputs": [],
   "source": [
    "scaler_dict = {}\n",
    "\n",
    "for column in features:\n",
    "    scaler = pp.MinMaxScaler()\n",
    "    df[column] = scaler.fit_transform(np.expand_dims(df[column].values, axis=1))\n",
    "    #on conserve le scaler de chaque colonne car il dépend de la colonne\n",
    "    scaler_dict[column] = scaler\n",
    "    \n",
    "    \n",
    "    \n",
    "    "
   ]
  },
  {
   "cell_type": "code",
   "execution_count": 25,
   "id": "bde17030",
   "metadata": {
    "id": "bde17030",
    "outputId": "0973167b-1fe1-4e7d-e361-054e577a18a1"
   },
   "outputs": [
    {
     "data": {
      "text/plain": [
       "{'open': MinMaxScaler(),\n",
       " 'high': MinMaxScaler(),\n",
       " 'low': MinMaxScaler(),\n",
       " 'close': MinMaxScaler(),\n",
       " 'volume': MinMaxScaler(),\n",
       " 'close 7 days mean': MinMaxScaler(),\n",
       " 'close 14 days mean': MinMaxScaler(),\n",
       " 'close 20 days mean': MinMaxScaler(),\n",
       " 'close 50 days mean': MinMaxScaler(),\n",
       " 'ema': MinMaxScaler(),\n",
       " 'upperband': MinMaxScaler(),\n",
       " 'middleband': MinMaxScaler(),\n",
       " 'lowerband': MinMaxScaler(),\n",
       " 'rsi': MinMaxScaler(),\n",
       " 'macd': MinMaxScaler(),\n",
       " 'bop': MinMaxScaler(),\n",
       " 'obv': MinMaxScaler(),\n",
       " 'natr': MinMaxScaler(),\n",
       " 'sine': MinMaxScaler(),\n",
       " 'leadsine': MinMaxScaler(),\n",
       " 'CDLKICKINGBYLENGTH': MinMaxScaler(),\n",
       " 'CDLTAKURI': MinMaxScaler(),\n",
       " 'CDLHARAMI': MinMaxScaler(),\n",
       " 'CDLDOJI': MinMaxScaler(),\n",
       " 'CDLDRAGONFLYDOJI': MinMaxScaler(),\n",
       " 'CDLLONGLEGGEDDOJI': MinMaxScaler()}"
      ]
     },
     "execution_count": 25,
     "metadata": {},
     "output_type": "execute_result"
    }
   ],
   "source": [
    "scaler_dict"
   ]
  },
  {
   "cell_type": "code",
   "execution_count": 26,
   "id": "dba2cb44",
   "metadata": {
    "id": "dba2cb44",
    "outputId": "ac590057-d138-4227-ed4b-96a4c49bf536"
   },
   "outputs": [
    {
     "data": {
      "text/html": [
       "<div>\n",
       "<style scoped>\n",
       "    .dataframe tbody tr th:only-of-type {\n",
       "        vertical-align: middle;\n",
       "    }\n",
       "\n",
       "    .dataframe tbody tr th {\n",
       "        vertical-align: top;\n",
       "    }\n",
       "\n",
       "    .dataframe thead th {\n",
       "        text-align: right;\n",
       "    }\n",
       "</style>\n",
       "<table border=\"1\" class=\"dataframe\">\n",
       "  <thead>\n",
       "    <tr style=\"text-align: right;\">\n",
       "      <th></th>\n",
       "      <th>open</th>\n",
       "      <th>high</th>\n",
       "      <th>low</th>\n",
       "      <th>close</th>\n",
       "      <th>volume</th>\n",
       "      <th>close 7 days mean</th>\n",
       "      <th>close 14 days mean</th>\n",
       "      <th>close 20 days mean</th>\n",
       "      <th>close 50 days mean</th>\n",
       "      <th>ema</th>\n",
       "      <th>...</th>\n",
       "      <th>obv</th>\n",
       "      <th>natr</th>\n",
       "      <th>sine</th>\n",
       "      <th>leadsine</th>\n",
       "      <th>CDLKICKINGBYLENGTH</th>\n",
       "      <th>CDLTAKURI</th>\n",
       "      <th>CDLHARAMI</th>\n",
       "      <th>CDLDOJI</th>\n",
       "      <th>CDLDRAGONFLYDOJI</th>\n",
       "      <th>CDLLONGLEGGEDDOJI</th>\n",
       "    </tr>\n",
       "  </thead>\n",
       "  <tbody>\n",
       "    <tr>\n",
       "      <th>2001-11-26</th>\n",
       "      <td>0.135832</td>\n",
       "      <td>0.130509</td>\n",
       "      <td>0.127515</td>\n",
       "      <td>0.127713</td>\n",
       "      <td>0.048434</td>\n",
       "      <td>NaN</td>\n",
       "      <td>NaN</td>\n",
       "      <td>NaN</td>\n",
       "      <td>NaN</td>\n",
       "      <td>NaN</td>\n",
       "      <td>...</td>\n",
       "      <td>0.121440</td>\n",
       "      <td>NaN</td>\n",
       "      <td>NaN</td>\n",
       "      <td>NaN</td>\n",
       "      <td>0.0</td>\n",
       "      <td>0.0</td>\n",
       "      <td>0.5</td>\n",
       "      <td>0.0</td>\n",
       "      <td>0.0</td>\n",
       "      <td>0.0</td>\n",
       "    </tr>\n",
       "    <tr>\n",
       "      <th>2001-11-27</th>\n",
       "      <td>0.128496</td>\n",
       "      <td>0.122444</td>\n",
       "      <td>0.120731</td>\n",
       "      <td>0.124077</td>\n",
       "      <td>0.041919</td>\n",
       "      <td>NaN</td>\n",
       "      <td>NaN</td>\n",
       "      <td>NaN</td>\n",
       "      <td>NaN</td>\n",
       "      <td>NaN</td>\n",
       "      <td>...</td>\n",
       "      <td>0.119121</td>\n",
       "      <td>NaN</td>\n",
       "      <td>NaN</td>\n",
       "      <td>NaN</td>\n",
       "      <td>0.0</td>\n",
       "      <td>0.0</td>\n",
       "      <td>0.5</td>\n",
       "      <td>0.0</td>\n",
       "      <td>0.0</td>\n",
       "      <td>0.0</td>\n",
       "    </tr>\n",
       "    <tr>\n",
       "      <th>2001-11-28</th>\n",
       "      <td>0.115887</td>\n",
       "      <td>0.111086</td>\n",
       "      <td>0.109923</td>\n",
       "      <td>0.109988</td>\n",
       "      <td>0.056780</td>\n",
       "      <td>NaN</td>\n",
       "      <td>NaN</td>\n",
       "      <td>NaN</td>\n",
       "      <td>NaN</td>\n",
       "      <td>NaN</td>\n",
       "      <td>...</td>\n",
       "      <td>0.116223</td>\n",
       "      <td>NaN</td>\n",
       "      <td>NaN</td>\n",
       "      <td>NaN</td>\n",
       "      <td>0.0</td>\n",
       "      <td>0.0</td>\n",
       "      <td>0.5</td>\n",
       "      <td>0.0</td>\n",
       "      <td>0.0</td>\n",
       "      <td>0.0</td>\n",
       "    </tr>\n",
       "    <tr>\n",
       "      <th>2001-11-29</th>\n",
       "      <td>0.112907</td>\n",
       "      <td>0.109950</td>\n",
       "      <td>0.108658</td>\n",
       "      <td>0.113737</td>\n",
       "      <td>0.040968</td>\n",
       "      <td>NaN</td>\n",
       "      <td>NaN</td>\n",
       "      <td>NaN</td>\n",
       "      <td>NaN</td>\n",
       "      <td>NaN</td>\n",
       "      <td>...</td>\n",
       "      <td>0.118505</td>\n",
       "      <td>NaN</td>\n",
       "      <td>NaN</td>\n",
       "      <td>NaN</td>\n",
       "      <td>0.0</td>\n",
       "      <td>0.0</td>\n",
       "      <td>0.5</td>\n",
       "      <td>0.0</td>\n",
       "      <td>0.0</td>\n",
       "      <td>0.0</td>\n",
       "    </tr>\n",
       "    <tr>\n",
       "      <th>2001-11-30</th>\n",
       "      <td>0.113480</td>\n",
       "      <td>0.109609</td>\n",
       "      <td>0.112108</td>\n",
       "      <td>0.112374</td>\n",
       "      <td>0.039565</td>\n",
       "      <td>NaN</td>\n",
       "      <td>NaN</td>\n",
       "      <td>NaN</td>\n",
       "      <td>NaN</td>\n",
       "      <td>NaN</td>\n",
       "      <td>...</td>\n",
       "      <td>0.116277</td>\n",
       "      <td>NaN</td>\n",
       "      <td>NaN</td>\n",
       "      <td>NaN</td>\n",
       "      <td>0.0</td>\n",
       "      <td>0.0</td>\n",
       "      <td>0.5</td>\n",
       "      <td>0.0</td>\n",
       "      <td>0.0</td>\n",
       "      <td>0.0</td>\n",
       "    </tr>\n",
       "  </tbody>\n",
       "</table>\n",
       "<p>5 rows × 28 columns</p>\n",
       "</div>"
      ],
      "text/plain": [
       "                open      high       low     close    volume  \\\n",
       "2001-11-26  0.135832  0.130509  0.127515  0.127713  0.048434   \n",
       "2001-11-27  0.128496  0.122444  0.120731  0.124077  0.041919   \n",
       "2001-11-28  0.115887  0.111086  0.109923  0.109988  0.056780   \n",
       "2001-11-29  0.112907  0.109950  0.108658  0.113737  0.040968   \n",
       "2001-11-30  0.113480  0.109609  0.112108  0.112374  0.039565   \n",
       "\n",
       "            close 7 days mean  close 14 days mean  close 20 days mean  \\\n",
       "2001-11-26                NaN                 NaN                 NaN   \n",
       "2001-11-27                NaN                 NaN                 NaN   \n",
       "2001-11-28                NaN                 NaN                 NaN   \n",
       "2001-11-29                NaN                 NaN                 NaN   \n",
       "2001-11-30                NaN                 NaN                 NaN   \n",
       "\n",
       "            close 50 days mean  ema  ...       obv  natr  sine  leadsine  \\\n",
       "2001-11-26                 NaN  NaN  ...  0.121440   NaN   NaN       NaN   \n",
       "2001-11-27                 NaN  NaN  ...  0.119121   NaN   NaN       NaN   \n",
       "2001-11-28                 NaN  NaN  ...  0.116223   NaN   NaN       NaN   \n",
       "2001-11-29                 NaN  NaN  ...  0.118505   NaN   NaN       NaN   \n",
       "2001-11-30                 NaN  NaN  ...  0.116277   NaN   NaN       NaN   \n",
       "\n",
       "            CDLKICKINGBYLENGTH  CDLTAKURI  CDLHARAMI  CDLDOJI  \\\n",
       "2001-11-26                 0.0        0.0        0.5      0.0   \n",
       "2001-11-27                 0.0        0.0        0.5      0.0   \n",
       "2001-11-28                 0.0        0.0        0.5      0.0   \n",
       "2001-11-29                 0.0        0.0        0.5      0.0   \n",
       "2001-11-30                 0.0        0.0        0.5      0.0   \n",
       "\n",
       "            CDLDRAGONFLYDOJI  CDLLONGLEGGEDDOJI  \n",
       "2001-11-26               0.0                0.0  \n",
       "2001-11-27               0.0                0.0  \n",
       "2001-11-28               0.0                0.0  \n",
       "2001-11-29               0.0                0.0  \n",
       "2001-11-30               0.0                0.0  \n",
       "\n",
       "[5 rows x 28 columns]"
      ]
     },
     "execution_count": 26,
     "metadata": {},
     "output_type": "execute_result"
    }
   ],
   "source": [
    "df.head()"
   ]
  },
  {
   "cell_type": "markdown",
   "id": "27246123",
   "metadata": {},
   "source": [
    "Creation des targets"
   ]
  },
  {
   "cell_type": "code",
   "execution_count": 28,
   "id": "68c8913f",
   "metadata": {
    "id": "68c8913f"
   },
   "outputs": [],
   "source": [
    "df['futur'] = df['close'].shift(-days_predicted)"
   ]
  },
  {
   "cell_type": "code",
   "execution_count": 29,
   "id": "a7e8fe02",
   "metadata": {
    "id": "a7e8fe02",
    "outputId": "53829d0d-8aa6-42d5-c89f-ce7d2799ff85"
   },
   "outputs": [
    {
     "data": {
      "text/plain": [
       "(5095, 29)"
      ]
     },
     "execution_count": 29,
     "metadata": {},
     "output_type": "execute_result"
    }
   ],
   "source": [
    "df.shape"
   ]
  },
  {
   "cell_type": "markdown",
   "id": "b0e12d1a",
   "metadata": {
    "id": "70bd0f4f",
    "outputId": "9e668633-921f-44fd-ad16-d85d6df2b486"
   },
   "source": [
    "Ici, on supprime de nouveau les NaN, créés lors du calcul des indicateurs"
   ]
  },
  {
   "cell_type": "code",
   "execution_count": 30,
   "id": "46bcfd93",
   "metadata": {
    "id": "46bcfd93"
   },
   "outputs": [],
   "source": [
    "df.dropna(inplace = True)"
   ]
  },
  {
   "cell_type": "code",
   "execution_count": 31,
   "id": "f62d447b",
   "metadata": {
    "id": "f62d447b",
    "outputId": "25870761-dc81-47a8-a777-f21476a319b7"
   },
   "outputs": [
    {
     "data": {
      "text/plain": [
       "(5030, 29)"
      ]
     },
     "execution_count": 31,
     "metadata": {},
     "output_type": "execute_result"
    }
   ],
   "source": [
    "df.shape"
   ]
  },
  {
   "cell_type": "markdown",
   "id": "a007c638",
   "metadata": {
    "id": "39a4f47e",
    "outputId": "b603bd12-f8df-4e31-a656-bc3e8656d57f"
   },
   "source": [
    "## On shuffle y et c de la même manière"
   ]
  },
  {
   "cell_type": "markdown",
   "id": "ea1e4b84",
   "metadata": {},
   "source": [
    "Préparation des séquences de prix des 50 derniers jours que l'on va considérer"
   ]
  },
  {
   "cell_type": "code",
   "execution_count": 32,
   "id": "b62e6acc",
   "metadata": {
    "id": "b62e6acc"
   },
   "outputs": [],
   "source": [
    "sequence_tot = []\n",
    "sequence = []\n",
    "i = 0\n",
    "for input_, tgt, current in zip(df[features].values, df['futur'].values, df['close'].values):\n",
    "    sequence.append(input_)\n",
    "    if len(sequence) == n: #dès que len(sequence) = n, on stock la sequence dans sequence_tot\n",
    "                            #dès lors, on supprime le premier élément de sequence, et on ajoute l'entrée à la fin, \n",
    "                            #ça garde une séquence de 50\n",
    "        sequence_tot.append([np.array(sequence), tgt, current])\n",
    "        sequence.pop(0)\n",
    "\n",
    "\n",
    "#tous les n, on ajoute tgt = target, avec df['futur'] qui est décalé de days_predicted \n",
    "#donc avec les n valeurs des nb_features features, on va essayer de trouver la target \n",
    "\n",
    "\n",
    "    \n",
    "x_data, y_data = [], [] #c correspond à current, c'est le prix à la date considérée, on en aura besoin pour déterminer le bénéfice\n",
    "#y est la donnée à déterminer, à savoir le prix à t + 10\n",
    "for s, tgt, current in sequence_tot:\n",
    "    x_data.append(s)\n",
    "    y_data.append((tgt, current))\n",
    "x_data, y_data = np.array(x_data), np.array(y_data)\n"
   ]
  },
  {
   "cell_type": "code",
   "execution_count": 33,
   "id": "ba7a424f",
   "metadata": {
    "id": "ba7a424f",
    "outputId": "5a2c7d40-a673-4ae1-f16b-c4728c117517"
   },
   "outputs": [
    {
     "data": {
      "text/plain": [
       "(4971, 2)"
      ]
     },
     "execution_count": 33,
     "metadata": {},
     "output_type": "execute_result"
    }
   ],
   "source": [
    "y_data.shape"
   ]
  },
  {
   "cell_type": "markdown",
   "id": "7feb6b9b",
   "metadata": {},
   "source": [
    "## Création de x, y, c sans sklearn"
   ]
  },
  {
   "cell_type": "markdown",
   "id": "0233433a",
   "metadata": {},
   "source": [
    "/!\\ Ne pas lancer cette cellule si l'on cree x, y, c avec sklearn"
   ]
  },
  {
   "cell_type": "code",
   "execution_count": null,
   "id": "4e555a2c",
   "metadata": {
    "id": "4e555a2c"
   },
   "outputs": [],
   "source": [
    "sequence_tot = []\n",
    "sequence = []\n",
    "i = 0\n",
    "for inpt, tgt, current in zip(df[features].values, df['futur'].values, df['close'].values):\n",
    "    sequence.append(inpt)\n",
    "    if len(sequence) == n: #dès que len(sequence) = n, on stock la sequence dans sequence_tot\n",
    "                            #dès lors, on supprime le premier élément de sequence, et on ajoute l'entrée à la fin, \n",
    "                            #ça garde une séquence de 50\n",
    "        sequence_tot.append([np.array(sequence), tgt, current])\n",
    "        sequence.pop(0)\n",
    "\n",
    "\n",
    "#tous les n, on ajoute tgt = target, avec df['futur'] qui est décalé de days_predicted \n",
    "#donc avec les n valeurs des nb_features features, on va essayer de trouver la target \n",
    "#donc, si n=50 et days_predicted=10, last_sequence devrait être de longueur 60 (50+10)\n",
    "\n",
    "\n",
    "    \n",
    "x_data, y_data, c_data = [], [], [] #c correspond à current, c'est le prix à la date considérée, on en aura besoin pour déterminer le bénéfice\n",
    "#y est la donnée à déterminer, à savoir le prix à t + 10\n",
    "for s, tgt, current in sequence_tot:\n",
    "    x_data.append(s)\n",
    "    y_data.append(tgt)\n",
    "    c_data.append(current)\n",
    "x_data, y_data, c_data = np.array(x_data), np.array(y_data), np.array(c_data)\n"
   ]
  },
  {
   "cell_type": "code",
   "execution_count": null,
   "id": "c6fa40cd",
   "metadata": {
    "id": "c6fa40cd"
   },
   "outputs": [],
   "source": [
    "idx = int((1 - test_size) * len(x_data))\n",
    "          \n",
    "x_train = x_data[:idx] #\"\"\"on prend les premiers pour le train\"\"\"\n",
    "y_train = y_data[:idx] #\"\"\"on prend les premiers pour le train\"\"\"\n",
    "x_test  = x_data[idx:] #\"\"\"on prend les derniers pour le test\"\"\"\n",
    "y_test = y_data[idx:] #\"\"\"on prend les derniers pour le test\"\"\"\n",
    "c_test = c_data[idx:]"
   ]
  },
  {
   "cell_type": "markdown",
   "id": "3a02acdc",
   "metadata": {
    "id": "98f180de"
   },
   "source": [
    "# Création de x, y, c avec sklearn"
   ]
  },
  {
   "cell_type": "code",
   "execution_count": 34,
   "id": "ed04fa15",
   "metadata": {
    "id": "ed04fa15"
   },
   "outputs": [],
   "source": [
    "x_train, x_test, y_train, y_test = sklearn.model_selection.train_test_split(x_data, y_data, test_size=test_size, shuffle=shffl)"
   ]
  },
  {
   "cell_type": "code",
   "execution_count": 36,
   "id": "77f3beb5",
   "metadata": {
    "id": "77f3beb5"
   },
   "outputs": [],
   "source": [
    "y_test, c_test = y_test[:,0], y_test[:,1]"
   ]
  },
  {
   "cell_type": "markdown",
   "id": "cc8cce16",
   "metadata": {
    "id": "46d9fb6d",
    "outputId": "d6c20334-644e-498b-c64d-699093bcaef7"
   },
   "source": [
    "On a pas besion de c_train, on a juste besoin de c_test pour calculer les benefices, on garde juste y_train"
   ]
  },
  {
   "cell_type": "code",
   "execution_count": 37,
   "id": "db77ea23",
   "metadata": {
    "id": "db77ea23"
   },
   "outputs": [],
   "source": [
    "y_train = y_train[:,0]"
   ]
  },
  {
   "cell_type": "markdown",
   "id": "2980303e",
   "metadata": {
    "id": "3bacabb1"
   },
   "source": [
    "## Conversion en float64\n",
    "\n",
    "Nous préférons utiliser les float64 plutôt que les float32 par défaut."
   ]
  },
  {
   "cell_type": "code",
   "execution_count": 38,
   "id": "1e22dade",
   "metadata": {
    "id": "1e22dade"
   },
   "outputs": [],
   "source": [
    "x_train = np.asarray(x_train).astype('float64')\n",
    "y_train = np.asarray(y_train).astype('float64')\n",
    "x_test = np.asarray(x_test).astype('float64')\n",
    "y_test = np.asarray(y_test).astype('float64')"
   ]
  },
  {
   "cell_type": "code",
   "execution_count": 39,
   "id": "3afa98cf",
   "metadata": {
    "id": "3afa98cf",
    "outputId": "1a02b8f7-3a85-48d6-8e9e-aaf3a9c41ac7"
   },
   "outputs": [
    {
     "data": {
      "text/plain": [
       "((3976, 60, 26), (3976,), (995, 60, 26), (995,))"
      ]
     },
     "execution_count": 39,
     "metadata": {},
     "output_type": "execute_result"
    }
   ],
   "source": [
    "x_train.shape, y_train.shape, x_test.shape, y_test.shape"
   ]
  },
  {
   "cell_type": "code",
   "execution_count": 40,
   "id": "37ac1027",
   "metadata": {
    "id": "37ac1027",
    "outputId": "a76f4eaf-ebf5-4bf6-ad9e-1b11a800ec92"
   },
   "outputs": [
    {
     "data": {
      "text/html": [
       "<div>\n",
       "<style scoped>\n",
       "    .dataframe tbody tr th:only-of-type {\n",
       "        vertical-align: middle;\n",
       "    }\n",
       "\n",
       "    .dataframe tbody tr th {\n",
       "        vertical-align: top;\n",
       "    }\n",
       "\n",
       "    .dataframe thead th {\n",
       "        text-align: right;\n",
       "    }\n",
       "</style>\n",
       "<table border=\"1\" class=\"dataframe\">\n",
       "  <thead>\n",
       "    <tr style=\"text-align: right;\">\n",
       "      <th></th>\n",
       "      <th>open</th>\n",
       "      <th>high</th>\n",
       "      <th>low</th>\n",
       "      <th>close</th>\n",
       "      <th>volume</th>\n",
       "      <th>close 7 days mean</th>\n",
       "      <th>close 14 days mean</th>\n",
       "      <th>close 20 days mean</th>\n",
       "      <th>close 50 days mean</th>\n",
       "      <th>ema</th>\n",
       "      <th>...</th>\n",
       "      <th>natr</th>\n",
       "      <th>sine</th>\n",
       "      <th>leadsine</th>\n",
       "      <th>CDLKICKINGBYLENGTH</th>\n",
       "      <th>CDLTAKURI</th>\n",
       "      <th>CDLHARAMI</th>\n",
       "      <th>CDLDOJI</th>\n",
       "      <th>CDLDRAGONFLYDOJI</th>\n",
       "      <th>CDLLONGLEGGEDDOJI</th>\n",
       "      <th>futur</th>\n",
       "    </tr>\n",
       "  </thead>\n",
       "  <tbody>\n",
       "    <tr>\n",
       "      <th>2022-02-15</th>\n",
       "      <td>0.972260</td>\n",
       "      <td>0.976374</td>\n",
       "      <td>0.968725</td>\n",
       "      <td>0.962959</td>\n",
       "      <td>0.092294</td>\n",
       "      <td>0.993721</td>\n",
       "      <td>0.993075</td>\n",
       "      <td>0.995930</td>\n",
       "      <td>0.989734</td>\n",
       "      <td>0.993130</td>\n",
       "      <td>...</td>\n",
       "      <td>0.175037</td>\n",
       "      <td>0.765026</td>\n",
       "      <td>0.387600</td>\n",
       "      <td>0.0</td>\n",
       "      <td>0.0</td>\n",
       "      <td>0.5</td>\n",
       "      <td>1.0</td>\n",
       "      <td>0.0</td>\n",
       "      <td>1.0</td>\n",
       "      <td>0.990456</td>\n",
       "    </tr>\n",
       "    <tr>\n",
       "      <th>2022-02-16</th>\n",
       "      <td>0.969968</td>\n",
       "      <td>0.967742</td>\n",
       "      <td>0.967115</td>\n",
       "      <td>0.962732</td>\n",
       "      <td>0.109303</td>\n",
       "      <td>0.991370</td>\n",
       "      <td>0.995207</td>\n",
       "      <td>0.995809</td>\n",
       "      <td>0.992743</td>\n",
       "      <td>0.994007</td>\n",
       "      <td>...</td>\n",
       "      <td>0.169524</td>\n",
       "      <td>0.641804</td>\n",
       "      <td>0.261234</td>\n",
       "      <td>0.0</td>\n",
       "      <td>0.0</td>\n",
       "      <td>0.5</td>\n",
       "      <td>1.0</td>\n",
       "      <td>0.0</td>\n",
       "      <td>1.0</td>\n",
       "      <td>1.000000</td>\n",
       "    </tr>\n",
       "  </tbody>\n",
       "</table>\n",
       "<p>2 rows × 29 columns</p>\n",
       "</div>"
      ],
      "text/plain": [
       "                open      high       low     close    volume  \\\n",
       "2022-02-15  0.972260  0.976374  0.968725  0.962959  0.092294   \n",
       "2022-02-16  0.969968  0.967742  0.967115  0.962732  0.109303   \n",
       "\n",
       "            close 7 days mean  close 14 days mean  close 20 days mean  \\\n",
       "2022-02-15           0.993721            0.993075            0.995930   \n",
       "2022-02-16           0.991370            0.995207            0.995809   \n",
       "\n",
       "            close 50 days mean       ema  ...      natr      sine  leadsine  \\\n",
       "2022-02-15            0.989734  0.993130  ...  0.175037  0.765026  0.387600   \n",
       "2022-02-16            0.992743  0.994007  ...  0.169524  0.641804  0.261234   \n",
       "\n",
       "            CDLKICKINGBYLENGTH  CDLTAKURI  CDLHARAMI  CDLDOJI  \\\n",
       "2022-02-15                 0.0        0.0        0.5      1.0   \n",
       "2022-02-16                 0.0        0.0        0.5      1.0   \n",
       "\n",
       "            CDLDRAGONFLYDOJI  CDLLONGLEGGEDDOJI     futur  \n",
       "2022-02-15               0.0                1.0  0.990456  \n",
       "2022-02-16               0.0                1.0  1.000000  \n",
       "\n",
       "[2 rows x 29 columns]"
      ]
     },
     "execution_count": 40,
     "metadata": {},
     "output_type": "execute_result"
    }
   ],
   "source": [
    "df.tail(days_predicted)"
   ]
  },
  {
   "cell_type": "markdown",
   "id": "1f96c20c",
   "metadata": {
    "id": "866059c9"
   },
   "source": [
    "# Modèle"
   ]
  },
  {
   "cell_type": "code",
   "execution_count": 41,
   "id": "cec92e26",
   "metadata": {
    "id": "cec92e26"
   },
   "outputs": [],
   "source": [
    "#paramètres sur les données\n",
    "n = 60\n",
    "days_predicted = 2\n",
    "test_size = 0.2\n",
    "features = possible_features\n",
    "\n",
    "#paramètres du modèle\n",
    "nb_neurons = 256\n",
    "nb_layers = 6\n",
    "dropout = 0.4 #\"désactive\" aléatoirement certains neurones a chaque forward pour réduire l'overfitting\n",
    "nb_features = len(features) #len de la dataframe\n",
    "loss_fn = 'huber_loss'\n",
    "e = 350 #nombre d'epoch\n",
    "b_s = 32 #c'est la taille du batch\n",
    "bidi = False\n",
    "mtrcs = ['mean_absolute_error']\n",
    "optm = 'adam'\n",
    "activation_fn = 'tanh'\n",
    "reg = None\n"
   ]
  },
  {
   "cell_type": "code",
   "execution_count": 42,
   "id": "c6812640",
   "metadata": {
    "id": "c6812640"
   },
   "outputs": [],
   "source": [
    "def mod_name(ticker, n, days_predicted, test_size, nb_neurons, nb_layers, dropout, nb_features, loss_fn, e, b_s, bidi, mtrcs, optm, activation_fn, reg):\n",
    "    return 'n' + str(n) + '__' + 'days_predicted' + str(days_predicted) + '__' + 'test_size' + str(test_size) + '__' + 'nb_neurons' + str(nb_neurons) + '__' + 'nb_layers' + str(nb_layers) + '__' + 'dropout' + str(dropout) + '__' + 'nb_features' + str(nb_features) + '__' + 'loss_fn' + str(loss_fn) + '__' + 'e' + str(e) + '__' + 'b_s' + str(b_s) + '__' + 'bidi' + str(bidi) + '__' + 'mtrcs' + str(mtrcs) + '__' + 'optm' + str(optm) + '__' + 'activation_fn' + str(activation_fn) + '__' + 'reg' + str(reg) \n"
   ]
  },
  {
   "cell_type": "code",
   "execution_count": 43,
   "id": "bed8ded4",
   "metadata": {
    "id": "bed8ded4"
   },
   "outputs": [],
   "source": [
    "name = mod_name(ticker, n, days_predicted, test_size, nb_neurons, nb_layers, dropout, nb_features, loss_fn, e, b_s, bidi, mtrcs, optm, activation_fn, reg)"
   ]
  },
  {
   "cell_type": "code",
   "execution_count": 44,
   "id": "b4d54d90",
   "metadata": {
    "id": "b4d54d90",
    "outputId": "6a9593aa-2207-4878-ffc2-223328b455b1"
   },
   "outputs": [
    {
     "data": {
      "text/plain": [
       "\"n60__days_predicted2__test_size0.2__nb_neurons256__nb_layers6__dropout0.4__nb_features26__loss_fnhuber_loss__e350__b_s32__bidiFalse__mtrcs['mean_absolute_error']__optmadam__activation_fntanh__regNone\""
      ]
     },
     "execution_count": 44,
     "metadata": {},
     "output_type": "execute_result"
    }
   ],
   "source": [
    "name"
   ]
  },
  {
   "cell_type": "code",
   "execution_count": 46,
   "id": "228340df",
   "metadata": {
    "id": "228340df"
   },
   "outputs": [],
   "source": [
    "def mod(nb_neurons, nb_layers, dropout, n, nb_features, loss_fn, bidi, mtrcs, optm, activation_fn, reg):\n",
    "\n",
    "    if bidi :\n",
    "        \"\"\"Bidirectionnel, n_layers = 2\"\"\"\n",
    "\n",
    "        mod = tf.keras.Sequential()\n",
    "\n",
    "        for _ in range(nb_layers - 1):\n",
    "            mod.add(tf.keras.layers.Bidirectional(tf.keras.layers.LSTM(nb_neurons, \n",
    "                                                                       return_sequences=True, \n",
    "                                                                       batch_input_shape=(None, n, nb_features)\n",
    "                                                                      )))\n",
    "            mod.add(tf.keras.layers.Dropout(dropout))\n",
    "        \n",
    "        mod.add(tf.keras.layers.Bidirectional(tf.keras.layers.LSTM(nb_neurons, return_sequences=False)))\n",
    "        mod.add(tf.keras.layers.Dropout(dropout))\n",
    "\n",
    "        mod.add(tf.keras.layers.Dense(1, activation = activation_fn)) \n",
    "        mod.compile(loss = loss_fn, metrics = mtrcs, optimizer = optm)\n",
    "        \n",
    "        \n",
    "    else :\n",
    "        mod = tf.keras.Sequential()\n",
    "        \n",
    "        for _ in range(nb_layers - 1):\n",
    "            mod.add(tf.keras.layers.LSTM(nb_neurons, return_sequences=True, batch_input_shape=(None, n, nb_features)))\n",
    "            mod.add(tf.keras.layers.Dropout(dropout))\n",
    "        \n",
    "        mod.add(tf.keras.layers.LSTM(nb_neurons, return_sequences=False))\n",
    "        mod.add(tf.keras.layers.Dropout(dropout))\n",
    "\n",
    "        mod.add(tf.keras.layers.Dense(1, activation = activation_fn)) \n",
    "        mod.compile(loss = loss_fn, metrics = mtrcs, optimizer = optm) #adam est un algorithme d'optimisation (ADAptative Moment)\n",
    "\n",
    "    return mod\n",
    "        \n",
    "\n",
    "\n",
    "\n",
    "\n"
   ]
  },
  {
   "cell_type": "code",
   "execution_count": 47,
   "id": "71022688",
   "metadata": {
    "id": "71022688"
   },
   "outputs": [],
   "source": [
    "mod = mod(nb_neurons, nb_layers, dropout, n, nb_features, loss_fn, bidi, mtrcs, optm, activation_fn, reg)"
   ]
  },
  {
   "cell_type": "code",
   "execution_count": 48,
   "id": "54815855",
   "metadata": {
    "id": "54815855",
    "outputId": "031c1def-e8a2-488e-ad7e-e921647f5735"
   },
   "outputs": [
    {
     "name": "stdout",
     "output_type": "stream",
     "text": [
      "Model: \"sequential\"\n",
      "_________________________________________________________________\n",
      "Layer (type)                 Output Shape              Param #   \n",
      "=================================================================\n",
      "lstm (LSTM)                  (None, 60, 256)           289792    \n",
      "_________________________________________________________________\n",
      "dropout (Dropout)            (None, 60, 256)           0         \n",
      "_________________________________________________________________\n",
      "lstm_1 (LSTM)                (None, 60, 256)           525312    \n",
      "_________________________________________________________________\n",
      "dropout_1 (Dropout)          (None, 60, 256)           0         \n",
      "_________________________________________________________________\n",
      "lstm_2 (LSTM)                (None, 60, 256)           525312    \n",
      "_________________________________________________________________\n",
      "dropout_2 (Dropout)          (None, 60, 256)           0         \n",
      "_________________________________________________________________\n",
      "lstm_3 (LSTM)                (None, 60, 256)           525312    \n",
      "_________________________________________________________________\n",
      "dropout_3 (Dropout)          (None, 60, 256)           0         \n",
      "_________________________________________________________________\n",
      "lstm_4 (LSTM)                (None, 60, 256)           525312    \n",
      "_________________________________________________________________\n",
      "dropout_4 (Dropout)          (None, 60, 256)           0         \n",
      "_________________________________________________________________\n",
      "lstm_5 (LSTM)                (None, 256)               525312    \n",
      "_________________________________________________________________\n",
      "dropout_5 (Dropout)          (None, 256)               0         \n",
      "_________________________________________________________________\n",
      "dense (Dense)                (None, 1)                 257       \n",
      "=================================================================\n",
      "Total params: 2,916,609\n",
      "Trainable params: 2,916,609\n",
      "Non-trainable params: 0\n",
      "_________________________________________________________________\n"
     ]
    }
   ],
   "source": [
    "mod.summary()"
   ]
  },
  {
   "cell_type": "code",
   "execution_count": 49,
   "id": "8d1b20da",
   "metadata": {
    "id": "8d1b20da"
   },
   "outputs": [],
   "source": [
    "\"\"\"création des dossiers pour les logs\"\"\"\n",
    "\n",
    "if not os.path.isdir(\"logs\"):\n",
    "    os.mkdir(\"logs\")\n"
   ]
  },
  {
   "cell_type": "code",
   "execution_count": 50,
   "id": "96f0aef5",
   "metadata": {
    "id": "96f0aef5"
   },
   "outputs": [],
   "source": [
    "#on utilise tensorboard pour visualiser la loss etc au fil des epochs\n",
    "\n",
    "tensorboard = tf.keras.callbacks.TensorBoard(log_dir=os.path.join(\"logs\", name))"
   ]
  },
  {
   "cell_type": "code",
   "execution_count": null,
   "id": "d60311ab",
   "metadata": {
    "id": "d60311ab",
    "outputId": "79ffb99f-6e46-4ae8-a345-462e44e8b9e8"
   },
   "outputs": [
    {
     "name": "stdout",
     "output_type": "stream",
     "text": [
      "Train on 3836 samples, validate on 959 samples\n",
      "Epoch 1/350\n",
      "3836/3836 [==============================] - 43s 11ms/sample - loss: 0.0039 - mean_absolute_error: 0.0492 - val_loss: 0.0028 - val_mean_absolute_error: 0.0570\n",
      "Epoch 2/350\n",
      "2944/3836 [======================>.......] - ETA: 5s - loss: 7.2295e-04 - mean_absolute_error: 0.0290"
     ]
    }
   ],
   "source": [
    "mod.fit(x_train, y_train,\n",
    "                    batch_size = b_s,\n",
    "                    epochs = e,\n",
    "                    validation_data = (x_test, y_test),\n",
    "                    callbacks = [tensorboard],\n",
    "                    verbose = 1)"
   ]
  },
  {
   "cell_type": "markdown",
   "id": "d67d3945",
   "metadata": {},
   "source": [
    "# Sauvegarde du modèle"
   ]
  },
  {
   "cell_type": "code",
   "execution_count": 62,
   "id": "56da2d5f",
   "metadata": {
    "id": "56da2d5f"
   },
   "outputs": [],
   "source": [
    "mod.save(name + '.h5')"
   ]
  },
  {
   "cell_type": "markdown",
   "id": "23afe51a",
   "metadata": {},
   "source": [
    "# Chargement d'un modèle déjà existant\n",
    "\n",
    "Cette cellule permet de charger un modèle déjà entrainé"
   ]
  },
  {
   "cell_type": "code",
   "execution_count": null,
   "id": "6c950514",
   "metadata": {
    "id": "6c950514"
   },
   "outputs": [],
   "source": [
    "loaded = tf.keras.models.load_model('BTC-USD__BiDiFalse__n60__days_predicted10__test_size0.2__nb_neurons256__dropout0.4__nb_features26__e650__b_s32.h5')"
   ]
  },
  {
   "cell_type": "markdown",
   "id": "90fac1d5",
   "metadata": {
    "id": "7b58de5c"
   },
   "source": [
    "# Calcul des prédictions"
   ]
  },
  {
   "cell_type": "code",
   "execution_count": 82,
   "id": "a1561fa6",
   "metadata": {
    "id": "a1561fa6"
   },
   "outputs": [],
   "source": [
    "y_pred = mod.predict(x_test)"
   ]
  },
  {
   "cell_type": "code",
   "execution_count": 83,
   "id": "55c573cd",
   "metadata": {
    "id": "55c573cd",
    "outputId": "838d6372-dfc9-4de5-f361-e398bf7b40df"
   },
   "outputs": [
    {
     "data": {
      "text/plain": [
       "(463, 1)"
      ]
     },
     "execution_count": 83,
     "metadata": {},
     "output_type": "execute_result"
    }
   ],
   "source": [
    "y_pred.shape"
   ]
  },
  {
   "cell_type": "code",
   "execution_count": 84,
   "id": "38de9507",
   "metadata": {
    "id": "38de9507",
    "outputId": "200f36fd-c95d-4315-eab7-06fd47c31a2a"
   },
   "outputs": [
    {
     "data": {
      "text/plain": [
       "(463, 1)"
      ]
     },
     "execution_count": 84,
     "metadata": {},
     "output_type": "execute_result"
    }
   ],
   "source": [
    "y_test.shape"
   ]
  },
  {
   "cell_type": "code",
   "execution_count": 85,
   "id": "1ae99a48",
   "metadata": {
    "id": "1ae99a48",
    "outputId": "af6c4749-5b6f-482b-9d08-47a27e7f8586"
   },
   "outputs": [
    {
     "data": {
      "text/plain": [
       "'on met y_test sous la meme shape que y_pred pour la suite'"
      ]
     },
     "execution_count": 85,
     "metadata": {},
     "output_type": "execute_result"
    }
   ],
   "source": [
    "\"\"\"on met y_test sous la meme shape que y_pred pour la suite\"\"\""
   ]
  },
  {
   "cell_type": "code",
   "execution_count": 87,
   "id": "a73f0a84",
   "metadata": {
    "id": "a73f0a84"
   },
   "outputs": [],
   "source": [
    "y_test = np.reshape(y_test, (y_pred.shape))"
   ]
  },
  {
   "cell_type": "code",
   "execution_count": 88,
   "id": "eae84dee",
   "metadata": {
    "id": "eae84dee",
    "outputId": "df315f68-7a0d-4c99-a241-3ffd787c6bdc"
   },
   "outputs": [
    {
     "data": {
      "text/plain": [
       "(463, 1)"
      ]
     },
     "execution_count": 88,
     "metadata": {},
     "output_type": "execute_result"
    }
   ],
   "source": [
    "y_test.shape"
   ]
  },
  {
   "cell_type": "code",
   "execution_count": 89,
   "id": "d5efbd07",
   "metadata": {
    "id": "d5efbd07"
   },
   "outputs": [],
   "source": [
    "c_test = np.reshape(c_test, (y_pred.shape))"
   ]
  },
  {
   "cell_type": "code",
   "execution_count": 90,
   "id": "fdda7dd1",
   "metadata": {
    "id": "fdda7dd1",
    "outputId": "8a6edbe6-49b3-41ca-d426-0f94a85999f1"
   },
   "outputs": [
    {
     "data": {
      "text/plain": [
       "(463, 1)"
      ]
     },
     "execution_count": 90,
     "metadata": {},
     "output_type": "execute_result"
    }
   ],
   "source": [
    "c_test.shape"
   ]
  },
  {
   "cell_type": "markdown",
   "id": "4c88f3c8",
   "metadata": {
    "id": "383492b7"
   },
   "source": [
    "## On 'un-scale' les sortie pour comparer les prix en USD"
   ]
  },
  {
   "cell_type": "code",
   "execution_count": 92,
   "id": "c9802c21",
   "metadata": {
    "id": "c9802c21"
   },
   "outputs": [],
   "source": [
    "#Une fois les données obtenues, on \"descale\" les prix pour trouver les vraies valeurs\n",
    "y_test_descaled = np.squeeze(scaler_dict['close'].inverse_transform(y_test))\n",
    "y_pred_descaled = np.squeeze(scaler_dict['close'].inverse_transform(y_pred))\n",
    "c_test_descaled = np.squeeze(scaler_dict['close'].inverse_transform(c_test))"
   ]
  },
  {
   "cell_type": "code",
   "execution_count": 74,
   "id": "fc3a41d3",
   "metadata": {
    "id": "fc3a41d3"
   },
   "outputs": [],
   "source": [
    "buy_profit  = lambda current, true_futur, pred_futur: true_futur - current if pred_futur > current else 0\n",
    "sell_profit = lambda current, true_futur, pred_futur: current - true_futur if pred_futur < current else 0\n",
    "#la gestion de portefeuille n'est pas l'objet de ce projet : on achete une unité d'action (ou de bitcoin ici), et on revend également une unité, independament de ce que cela représente comme part de notre capital.\n",
    "#la stratégie d'investissement est basique : si on s'attend à ce que les prix augmentent, on achète (dans l'optique de revendre après)\n",
    "#si on s'attend à ce que les prix diminuent, on vend (et on achète après)"
   ]
  },
  {
   "cell_type": "markdown",
   "id": "06dc5aa6",
   "metadata": {
    "id": "d30d1300"
   },
   "source": [
    "# Calcul des profits"
   ]
  },
  {
   "cell_type": "code",
   "execution_count": 93,
   "id": "64d1accb",
   "metadata": {
    "id": "64d1accb"
   },
   "outputs": [],
   "source": [
    "buy_prft = list(map(buy_profit, \n",
    "                                c_test_descaled, \n",
    "                                y_test_descaled, \n",
    "                                y_pred_descaled)\n",
    "                                \n",
    "                                )\n",
    "\n",
    "sell_prft = list(map(sell_profit, \n",
    "                                c_test_descaled, \n",
    "                                y_test_descaled, \n",
    "                                y_pred_descaled)\n",
    "                                )"
   ]
  },
  {
   "cell_type": "code",
   "execution_count": 94,
   "id": "fe232fbe",
   "metadata": {
    "id": "fe232fbe",
    "outputId": "356c1f7c-1197-40f7-d909-fba94e968d4b"
   },
   "outputs": [
    {
     "data": {
      "text/plain": [
       "[124.829833984375,\n",
       " -11.445999145507812,\n",
       " 45.646972656249886,\n",
       " 6.464996337890625,\n",
       " 19.222000122070312,\n",
       " 0,\n",
       " 0,\n",
       " 0,\n",
       " -22.56201171875,\n",
       " 14.152008056640625,\n",
       " 25.41064453125,\n",
       " -23.0369873046875,\n",
       " 0,\n",
       " -9.884994506835938,\n",
       " 1174.0400390625,\n",
       " 3467.1328125,\n",
       " 9.188003540039062,\n",
       " 913.2099609375,\n",
       " 16.409011840820312,\n",
       " 5247.71484375,\n",
       " 13.33447265625,\n",
       " 2776.533203125,\n",
       " 102.87890625,\n",
       " 0,\n",
       " 0,\n",
       " 610.384765625,\n",
       " 122.85400390625,\n",
       " 0,\n",
       " 0,\n",
       " 0,\n",
       " 0,\n",
       " -24.9739990234375,\n",
       " 91.18801879882812,\n",
       " -56.486328125,\n",
       " 337.4580078125,\n",
       " 33.98799133300781,\n",
       " 2811.65234375,\n",
       " -29.1199951171875,\n",
       " 0,\n",
       " 4.52301025390625,\n",
       " -255.97509765625,\n",
       " 0,\n",
       " 11.871002197265625,\n",
       " 852.60791015625,\n",
       " 0,\n",
       " 0,\n",
       " 320.5166015625,\n",
       " 10552.068359375,\n",
       " 0,\n",
       " 0,\n",
       " 21.10198974609375,\n",
       " 3039.326171874998,\n",
       " 31.891006469726562,\n",
       " 0,\n",
       " 22.836975097656136,\n",
       " -73.7998046875,\n",
       " 0,\n",
       " 0,\n",
       " 1169.19921875,\n",
       " 0,\n",
       " 1585.4443359375,\n",
       " 0,\n",
       " 0,\n",
       " 206.419921875,\n",
       " -2.22601318359375,\n",
       " 110.85003662109375,\n",
       " 0,\n",
       " 244.92333984375,\n",
       " 411.280029296875,\n",
       " -184.119140625,\n",
       " 0,\n",
       " 0.1820068359375,\n",
       " 4829.625,\n",
       " 34.330078125,\n",
       " 585.2900390625,\n",
       " 0,\n",
       " 0,\n",
       " 37.846008300781364,\n",
       " 125.5499267578125,\n",
       " 0,\n",
       " 1526.830566406251,\n",
       " 0,\n",
       " 0,\n",
       " 0,\n",
       " 0,\n",
       " 1935.349609375,\n",
       " 986.06201171875,\n",
       " 0,\n",
       " 2.498992919921875,\n",
       " 1037.75732421875,\n",
       " 0,\n",
       " 1016.59375,\n",
       " -5.43994140625,\n",
       " 708.3569335937509,\n",
       " 1081.27734375,\n",
       " 0,\n",
       " -55.08984375,\n",
       " 791.48974609375,\n",
       " 0,\n",
       " 0,\n",
       " 267.31005859375,\n",
       " 7.6090087890625,\n",
       " 0,\n",
       " 0,\n",
       " 758.55615234375,\n",
       " -10.748992919921875,\n",
       " 848.0869140625,\n",
       " 1.061004638671875,\n",
       " -28.592987060546875,\n",
       " 4.834991455078125,\n",
       " 509.140625,\n",
       " 26.5,\n",
       " 5363.658203125,\n",
       " 0,\n",
       " 180.77099609375,\n",
       " 18.652008056640625,\n",
       " 1475.3798828125,\n",
       " 55.29901123046875,\n",
       " 0,\n",
       " 0,\n",
       " 0,\n",
       " 0,\n",
       " 72.70901489257812,\n",
       " 10741.1484375,\n",
       " 276.0009765625,\n",
       " 392.662109375,\n",
       " 0,\n",
       " -193.330078125,\n",
       " 569.929931640625,\n",
       " 2488.3193359375,\n",
       " 1148.18017578125,\n",
       " -19.859985351562614,\n",
       " 4634.8828125,\n",
       " 3.2079925537109375,\n",
       " 14.238998413085938,\n",
       " 788.306640625,\n",
       " 0,\n",
       " 0,\n",
       " 26.548004150390625,\n",
       " 3613.53125,\n",
       " 3.8330078125,\n",
       " 223.4296875,\n",
       " 16.097991943359375,\n",
       " -8.9830322265625,\n",
       " 0,\n",
       " -15.772033691406364,\n",
       " 0,\n",
       " 332.365234375,\n",
       " -23.976989746093636,\n",
       " 1098.29833984375,\n",
       " 2.45001220703125,\n",
       " -9.540008544921875,\n",
       " 0,\n",
       " 0,\n",
       " 0,\n",
       " 3282.671875,\n",
       " 1058.3427734375,\n",
       " 0,\n",
       " 6192.50390625,\n",
       " -4.415985107421875,\n",
       " 189.1510009765625,\n",
       " 132.91015625,\n",
       " 15.110000610351562,\n",
       " 0,\n",
       " 0,\n",
       " 7.15899658203125,\n",
       " 762.83203125,\n",
       " -5.83599853515625,\n",
       " 0,\n",
       " 1669.5302734375,\n",
       " 707.69482421875,\n",
       " -7.58599853515625,\n",
       " 0,\n",
       " -21.666000366210938,\n",
       " 6.928985595703125,\n",
       " -65.93798828125,\n",
       " 0,\n",
       " 0,\n",
       " 0,\n",
       " -0.043975830078125,\n",
       " 45.3580322265625,\n",
       " 0,\n",
       " 0,\n",
       " 2.576995849609375,\n",
       " 0,\n",
       " 49.869873046875,\n",
       " 19.919982910156364,\n",
       " 772.7001953125,\n",
       " 25.2760009765625,\n",
       " 0,\n",
       " 99.986328125,\n",
       " 0,\n",
       " -6.878997802734375,\n",
       " 950.8537597656255,\n",
       " 827.173828125,\n",
       " 0,\n",
       " 293.6787109375,\n",
       " 40.63201904296875,\n",
       " 19.506011962890625,\n",
       " 19.680999755859375,\n",
       " 4.1790008544921875,\n",
       " 4979.373046875,\n",
       " 564.6103515625,\n",
       " 4534.3359375,\n",
       " 0,\n",
       " 2255.5126953125,\n",
       " 0,\n",
       " 0,\n",
       " 0,\n",
       " -93.63397216796875,\n",
       " 0,\n",
       " 0,\n",
       " 765.345703125,\n",
       " -2.23797607421875,\n",
       " -25.10699462890625,\n",
       " 1911.662109375,\n",
       " 426.969970703125,\n",
       " 931.076171875,\n",
       " 48.0369873046875,\n",
       " 37.190002441406136,\n",
       " 0,\n",
       " 232.3955078125,\n",
       " -13.298980712890625,\n",
       " 216.019775390625,\n",
       " 0,\n",
       " 44.7412109375,\n",
       " -12.785995483398438,\n",
       " 0,\n",
       " 46.773681640625,\n",
       " 2.5829925537109375,\n",
       " 0,\n",
       " 127.88299560546875,\n",
       " 36.097045898437386,\n",
       " 1124.7705078125,\n",
       " -26.394012451171875,\n",
       " 618.9501953125,\n",
       " 16.32501220703125,\n",
       " 0,\n",
       " 3211.13037109375,\n",
       " 0,\n",
       " 11791.22265625,\n",
       " 8.727005004882812,\n",
       " 751.912109375,\n",
       " 0,\n",
       " 426.8486328125,\n",
       " 159.68994140625,\n",
       " -22.18017578125,\n",
       " 111.650390625,\n",
       " 697.318359375,\n",
       " 99.14990234375,\n",
       " 0,\n",
       " 699.80029296875,\n",
       " 2725.8544921875,\n",
       " 23.57598876953125,\n",
       " 554.64453125,\n",
       " 0,\n",
       " 1839.48046875,\n",
       " 1502.580078125,\n",
       " 0,\n",
       " 1222.83984375,\n",
       " 0,\n",
       " 112.83203125,\n",
       " 2.6450042724609375,\n",
       " 0,\n",
       " 1602.43017578125,\n",
       " 134.81201171875,\n",
       " 0,\n",
       " 143.4072265625,\n",
       " 0,\n",
       " -29.6300048828125,\n",
       " 0,\n",
       " 11.07000732421875,\n",
       " 2046.62548828125,\n",
       " 1681.11962890625,\n",
       " 4.509979248046875,\n",
       " -8.072021484375,\n",
       " 603.73046875,\n",
       " 6.371002197265625,\n",
       " -7.080078125,\n",
       " 21.90399169921875,\n",
       " 82.5439453125,\n",
       " 0,\n",
       " 0,\n",
       " 289.9599609375,\n",
       " -26.2685546875,\n",
       " 596.5634765625,\n",
       " 20.370986938476562,\n",
       " 0,\n",
       " 0,\n",
       " 9046.07421875,\n",
       " 488.3818359375,\n",
       " 134.541015625,\n",
       " 0,\n",
       " 4.65399169921875,\n",
       " 0,\n",
       " -75.8079833984375,\n",
       " 0,\n",
       " 4906.7998046875,\n",
       " 842.23828125,\n",
       " -78.656982421875,\n",
       " 80.99899291992188,\n",
       " 108.96875,\n",
       " 0,\n",
       " -76.740966796875,\n",
       " 10.214996337890625,\n",
       " 34.416015625,\n",
       " 160.36199951171886,\n",
       " 0,\n",
       " -1.9770050048828125,\n",
       " 325.126953125,\n",
       " 1599.459960937501,\n",
       " -8.60699462890625,\n",
       " 34.997009277343864,\n",
       " 0.003997802734375,\n",
       " 561.509765625,\n",
       " 883.9501953125,\n",
       " 1862.4541015625,\n",
       " 0,\n",
       " 3.0959930419921875,\n",
       " -54.108001708984375,\n",
       " 525.080078125,\n",
       " 0,\n",
       " 0,\n",
       " 0,\n",
       " 906.3046875,\n",
       " 19.82501220703125,\n",
       " 0,\n",
       " 46.292968750000114,\n",
       " 0,\n",
       " 16.833984375,\n",
       " 7664.203125,\n",
       " 5.194000244140625,\n",
       " 22.35205078125,\n",
       " 8.040008544921875,\n",
       " 954.56689453125,\n",
       " -40.110107421875,\n",
       " 71.710205078125,\n",
       " 14.093994140625,\n",
       " 0.93402099609375,\n",
       " 2.9470062255859375,\n",
       " 0,\n",
       " -18.597015380859375,\n",
       " 0,\n",
       " 232.34997558593727,\n",
       " -12.860015869140625,\n",
       " 693.489990234375,\n",
       " 4351.140625,\n",
       " 0,\n",
       " 0,\n",
       " 2484.7744140625,\n",
       " 372.5185546875,\n",
       " 1507.599609375,\n",
       " 8.048004150390625,\n",
       " -9.667999267578125,\n",
       " 0,\n",
       " 32.676025390624886,\n",
       " 179.240234375,\n",
       " 0,\n",
       " 0,\n",
       " 2.050048828125,\n",
       " 1207.02392578125,\n",
       " 1209.830078124999,\n",
       " 375.7392578125,\n",
       " 0,\n",
       " 0,\n",
       " 0.9629974365234375,\n",
       " 0,\n",
       " 0,\n",
       " -222.22998046875,\n",
       " 17.636016845703125,\n",
       " 282.8800048828125,\n",
       " 0,\n",
       " 8.10009765625,\n",
       " 9.81500244140625,\n",
       " 0,\n",
       " 0,\n",
       " -14.808990478515625,\n",
       " -38.39900207519531,\n",
       " -0.64703369140625,\n",
       " 20.24700927734375,\n",
       " 861.111328125,\n",
       " -33.20701599121094,\n",
       " 537.7890625,\n",
       " 13.8489990234375,\n",
       " 8.462997436523438,\n",
       " 122.70300292968761,\n",
       " -67.2459716796875,\n",
       " 64.5361328125,\n",
       " 58.552001953125,\n",
       " 171.030029296875,\n",
       " 0,\n",
       " 0,\n",
       " 119.49200439453125,\n",
       " 0,\n",
       " 0,\n",
       " 275.890869140625,\n",
       " -6.2779998779296875,\n",
       " 0,\n",
       " 0,\n",
       " 0,\n",
       " 2.4404296875,\n",
       " 461.7978515625,\n",
       " 87.11328125,\n",
       " 15.842987060546875,\n",
       " 3492.60546875,\n",
       " 851.230224609375,\n",
       " 1003.75537109375,\n",
       " 0,\n",
       " 136.9100341796875,\n",
       " -0.67498779296875,\n",
       " 141.3580322265626,\n",
       " 0,\n",
       " -7.81597900390625,\n",
       " 37.11500549316406,\n",
       " 45.780029296875,\n",
       " 0,\n",
       " -13.615997314453125,\n",
       " -29.3389892578125,\n",
       " 2504.6005859375,\n",
       " 437.353515625,\n",
       " 2000.4912109375,\n",
       " 14.686004638671875,\n",
       " 12.91400146484375,\n",
       " 477.639892578125,\n",
       " -20.17999267578125,\n",
       " -214.8310546875,\n",
       " 0,\n",
       " 0,\n",
       " 0,\n",
       " 415.78125,\n",
       " -66.66400146484375,\n",
       " 6.5830078125,\n",
       " 79.7440185546875,\n",
       " 9633.42578125,\n",
       " 137.2230224609375,\n",
       " -13.449981689453125,\n",
       " 68.14398193359375,\n",
       " 197.8583984375,\n",
       " 0,\n",
       " 19.183837890625,\n",
       " 520.25,\n",
       " 0,\n",
       " 0,\n",
       " 268.0400390625,\n",
       " 88.197998046875,\n",
       " 0,\n",
       " 0,\n",
       " -12.618957519531364,\n",
       " 0,\n",
       " 160.4853515625,\n",
       " 27.889892578125,\n",
       " 389.9599609375,\n",
       " 0,\n",
       " 18.02996826171875,\n",
       " 277.8798828125,\n",
       " -48.9599609375,\n",
       " 0,\n",
       " 361.14990234375,\n",
       " 13.729995727539062,\n",
       " 141.427978515625,\n",
       " -19.3701171875,\n",
       " 1479.279785156249,\n",
       " 0]"
      ]
     },
     "execution_count": 94,
     "metadata": {},
     "output_type": "execute_result"
    }
   ],
   "source": [
    "buy_prft"
   ]
  },
  {
   "cell_type": "code",
   "execution_count": 95,
   "id": "5d44659f",
   "metadata": {
    "id": "5d44659f",
    "outputId": "7ad3fd44-7b28-4918-948c-c42f5488a648"
   },
   "outputs": [
    {
     "data": {
      "text/plain": [
       "[0,\n",
       " 0,\n",
       " 0,\n",
       " 0,\n",
       " 0,\n",
       " 43.0699462890625,\n",
       " 61.1201171875,\n",
       " 989.87939453125,\n",
       " 0,\n",
       " 0,\n",
       " 0,\n",
       " 0,\n",
       " 83.83984375,\n",
       " 0,\n",
       " 0,\n",
       " 0,\n",
       " 0,\n",
       " 0,\n",
       " 0,\n",
       " 0,\n",
       " 0,\n",
       " 0,\n",
       " 0,\n",
       " 975.81005859375,\n",
       " 15077.05859375,\n",
       " 0,\n",
       " 0,\n",
       " 289.9140625,\n",
       " 285.759765625,\n",
       " 2184.490234375,\n",
       " 514.6125488281255,\n",
       " 0,\n",
       " 0,\n",
       " 0,\n",
       " 0,\n",
       " 0,\n",
       " 0,\n",
       " 0,\n",
       " 315.2294921875,\n",
       " 0,\n",
       " 0,\n",
       " 664.6123046875,\n",
       " 0,\n",
       " 0,\n",
       " 245.5166015625,\n",
       " 983.248046875,\n",
       " 0,\n",
       " 0,\n",
       " 115.6552734375,\n",
       " 342.14013671875,\n",
       " 0,\n",
       " 0,\n",
       " 0,\n",
       " 463.1098632812509,\n",
       " 0,\n",
       " 0,\n",
       " 61.2041015625,\n",
       " -28.1640625,\n",
       " 0,\n",
       " 109.38037109375,\n",
       " 0,\n",
       " 547.7197265625,\n",
       " 7.81201171875,\n",
       " 0,\n",
       " 0,\n",
       " 0,\n",
       " 1464.9501953125,\n",
       " 0,\n",
       " 0,\n",
       " 0,\n",
       " -2.1594238281245453,\n",
       " 0,\n",
       " 0,\n",
       " 0,\n",
       " 0,\n",
       " -25.469970703125,\n",
       " 5358.73046875,\n",
       " 0,\n",
       " 0,\n",
       " -97.5546875,\n",
       " 0,\n",
       " 1033.8779296875,\n",
       " 9.47021484375,\n",
       " 397.435546875,\n",
       " 420.130859375,\n",
       " 0,\n",
       " 0,\n",
       " 12.1710205078125,\n",
       " 0,\n",
       " 0,\n",
       " 1011.5869140625,\n",
       " 0,\n",
       " 0,\n",
       " 0,\n",
       " 0,\n",
       " 7161.859375,\n",
       " 0,\n",
       " 0,\n",
       " 1599.19921875,\n",
       " -631.785400390625,\n",
       " 0,\n",
       " 0,\n",
       " -156.310546875,\n",
       " 6.31500244140625,\n",
       " 0,\n",
       " 0,\n",
       " 0,\n",
       " 0,\n",
       " 0,\n",
       " 0,\n",
       " 0,\n",
       " 0,\n",
       " 0,\n",
       " -107.87646484375045,\n",
       " 0,\n",
       " 0,\n",
       " 0,\n",
       " 0,\n",
       " -47.4697265625,\n",
       " 94.59814453125,\n",
       " 311.0,\n",
       " 5289.0,\n",
       " 0,\n",
       " 0,\n",
       " 0,\n",
       " 0,\n",
       " -41.1875,\n",
       " 0,\n",
       " 0,\n",
       " 0,\n",
       " 0,\n",
       " 0,\n",
       " 0,\n",
       " 0,\n",
       " 0,\n",
       " 0,\n",
       " 1884.23974609375,\n",
       " 676.3779296875,\n",
       " 0,\n",
       " 0,\n",
       " 0,\n",
       " 0,\n",
       " 0,\n",
       " 0,\n",
       " 364.3955078125,\n",
       " 0,\n",
       " 1667.58984375,\n",
       " 0,\n",
       " 0,\n",
       " 0,\n",
       " 0,\n",
       " 0,\n",
       " 1732.451660156251,\n",
       " 677.51953125,\n",
       " 8357.96484375,\n",
       " 0,\n",
       " 0,\n",
       " 94.6611328125,\n",
       " 0,\n",
       " 0,\n",
       " 0,\n",
       " 0,\n",
       " 0,\n",
       " 924.8203125,\n",
       " 319.099609375,\n",
       " 0,\n",
       " 0,\n",
       " 0,\n",
       " 1159.7158203125,\n",
       " 0,\n",
       " 0,\n",
       " 0,\n",
       " -17.010009765625,\n",
       " 0,\n",
       " 0,\n",
       " 0,\n",
       " 636.3022460937491,\n",
       " 373.008544921875,\n",
       " -135.87646484375,\n",
       " 0,\n",
       " 0,\n",
       " -169.34375000000045,\n",
       " 2294.8505859375,\n",
       " 0,\n",
       " 1795.8203125,\n",
       " 0,\n",
       " 0,\n",
       " 0,\n",
       " 0,\n",
       " 1737.482421875,\n",
       " 0,\n",
       " -125.927490234375,\n",
       " 0,\n",
       " 0,\n",
       " 0,\n",
       " 8131.1796875,\n",
       " 0,\n",
       " 0,\n",
       " 0,\n",
       " 0,\n",
       " 0,\n",
       " 0,\n",
       " 0,\n",
       " 0,\n",
       " 268.48876953125,\n",
       " 0,\n",
       " 80.39898681640625,\n",
       " 156.154541015625,\n",
       " -366.30078125,\n",
       " 0,\n",
       " 580.4501953125,\n",
       " -25.35601806640625,\n",
       " 0,\n",
       " 0,\n",
       " 0,\n",
       " 0,\n",
       " 0,\n",
       " 0,\n",
       " 0,\n",
       " 0,\n",
       " 2162.2294921875,\n",
       " 0,\n",
       " 0,\n",
       " 0,\n",
       " 421.2626953125,\n",
       " 0,\n",
       " 0,\n",
       " 905.6484375,\n",
       " 0,\n",
       " 0,\n",
       " 1028.25830078125,\n",
       " 0,\n",
       " 0,\n",
       " 0,\n",
       " 0,\n",
       " 0,\n",
       " 0,\n",
       " 739.009765625,\n",
       " 0,\n",
       " 25.93994140625,\n",
       " 0,\n",
       " 0,\n",
       " 0,\n",
       " 281.69921875,\n",
       " 0,\n",
       " 0,\n",
       " 0,\n",
       " 0,\n",
       " 0,\n",
       " 0,\n",
       " 4980.46875,\n",
       " 0,\n",
       " 0,\n",
       " 0,\n",
       " 0,\n",
       " 251.41796875,\n",
       " 0,\n",
       " 0,\n",
       " -124.099609375,\n",
       " 0,\n",
       " 5248.716796875,\n",
       " 0,\n",
       " 0,\n",
       " 7551.03515625,\n",
       " 0,\n",
       " 0,\n",
       " 41.20899963378906,\n",
       " 0,\n",
       " 1952.3330078125,\n",
       " 0,\n",
       " 282.1083984375,\n",
       " 0,\n",
       " 0,\n",
       " 0,\n",
       " 0,\n",
       " 0,\n",
       " 0,\n",
       " 0,\n",
       " 0,\n",
       " 0,\n",
       " 0,\n",
       " 12409.8046875,\n",
       " -95.8203125,\n",
       " 0,\n",
       " 0,\n",
       " 0,\n",
       " 0,\n",
       " 1796.419921875,\n",
       " 216.989990234375,\n",
       " 0,\n",
       " 0,\n",
       " 0,\n",
       " 1807.6806640625,\n",
       " 0,\n",
       " 890.10009765625,\n",
       " 0,\n",
       " 931.0048828125,\n",
       " 0,\n",
       " 0,\n",
       " 0,\n",
       " 0,\n",
       " 0,\n",
       " 1345.8583984375,\n",
       " 0,\n",
       " 0,\n",
       " 0,\n",
       " 0,\n",
       " 830.18017578125,\n",
       " 0,\n",
       " 0,\n",
       " 0,\n",
       " 0,\n",
       " 0,\n",
       " 0,\n",
       " 0,\n",
       " 0,\n",
       " 0,\n",
       " 3049.19921875,\n",
       " 0,\n",
       " 0,\n",
       " 0,\n",
       " 646.22265625,\n",
       " 1405.853515625,\n",
       " 225.919921875,\n",
       " 0,\n",
       " 0,\n",
       " 94.92999267578125,\n",
       " 0,\n",
       " 174.5634765625,\n",
       " 0,\n",
       " 0,\n",
       " 0,\n",
       " 0,\n",
       " 0,\n",
       " 0,\n",
       " 0,\n",
       " 0,\n",
       " 0,\n",
       " 0,\n",
       " 0,\n",
       " 2048.6904296875,\n",
       " 0,\n",
       " 220.4677734375,\n",
       " 0,\n",
       " 0,\n",
       " 0,\n",
       " 0,\n",
       " 2412.599609375,\n",
       " 651.02392578125,\n",
       " 0,\n",
       " 0,\n",
       " 0,\n",
       " 0,\n",
       " 0,\n",
       " 1890.37890625,\n",
       " 0,\n",
       " 0,\n",
       " 1957.35009765625,\n",
       " -11.875,\n",
       " 0,\n",
       " 0,\n",
       " 0,\n",
       " 0,\n",
       " 15894.375,\n",
       " 6.4340057373046875,\n",
       " 0,\n",
       " 678.7401123046875,\n",
       " 1569.5634765625,\n",
       " 0,\n",
       " 0,\n",
       " 0,\n",
       " 3686.7001953125,\n",
       " 0,\n",
       " 0,\n",
       " 1318.7958984375,\n",
       " 1397.93017578125,\n",
       " 0,\n",
       " 0,\n",
       " 0,\n",
       " 0,\n",
       " 0,\n",
       " 0,\n",
       " 0,\n",
       " 0,\n",
       " 0,\n",
       " 0,\n",
       " 0,\n",
       " 0,\n",
       " 0,\n",
       " 0,\n",
       " 2860.109375,\n",
       " 290.25,\n",
       " 0,\n",
       " 3609.7001953125,\n",
       " 268.2626953125,\n",
       " 0,\n",
       " 0,\n",
       " -43.78857421875,\n",
       " -10.52099609375,\n",
       " 1646.5,\n",
       " 0,\n",
       " 0,\n",
       " 0,\n",
       " 0,\n",
       " 0,\n",
       " 0,\n",
       " 0,\n",
       " 1043.0458984375,\n",
       " 0,\n",
       " 0,\n",
       " 0,\n",
       " 301.090087890625,\n",
       " 0,\n",
       " 0,\n",
       " 0,\n",
       " 541.9609375,\n",
       " 0,\n",
       " 0,\n",
       " 0,\n",
       " 0,\n",
       " 0,\n",
       " 0,\n",
       " 0,\n",
       " 0,\n",
       " 0,\n",
       " 0,\n",
       " 3.26898193359375,\n",
       " 503.31640625,\n",
       " 689.5859375,\n",
       " 0,\n",
       " 0,\n",
       " 0,\n",
       " 0,\n",
       " 0,\n",
       " 0,\n",
       " 0,\n",
       " 0,\n",
       " 0,\n",
       " 2.17303466796875,\n",
       " 0,\n",
       " 0,\n",
       " -81.25048828125,\n",
       " 434.8642578125,\n",
       " 0,\n",
       " 0,\n",
       " 1012.9501953125,\n",
       " 15.1500244140625,\n",
       " 0,\n",
       " 507.3857421875,\n",
       " 0,\n",
       " 0,\n",
       " 0,\n",
       " 339.734375,\n",
       " 0,\n",
       " 0,\n",
       " 0,\n",
       " 144.05859375,\n",
       " 0,\n",
       " 0,\n",
       " 0,\n",
       " 0,\n",
       " 0,\n",
       " 2520.73828125]"
      ]
     },
     "execution_count": 95,
     "metadata": {},
     "output_type": "execute_result"
    }
   ],
   "source": [
    "sell_prft"
   ]
  },
  {
   "cell_type": "markdown",
   "id": "3fddb409",
   "metadata": {},
   "source": [
    "On calcule l'accuracy en regardant la proportion de profit positif"
   ]
  },
  {
   "cell_type": "code",
   "execution_count": 96,
   "id": "1f8ec19d",
   "metadata": {
    "id": "1f8ec19d"
   },
   "outputs": [],
   "source": [
    "accuracy = (len([e for e in sell_prft if e > 0]) + len([e for e in buy_prft if e > 0])) / len(y_pred)"
   ]
  },
  {
   "cell_type": "code",
   "execution_count": 97,
   "id": "160300eb",
   "metadata": {
    "id": "160300eb"
   },
   "outputs": [],
   "source": [
    "tot_buy_profit  = sum(buy_prft)\n",
    "tot_sell_profit = sum(sell_prft)\n",
    "tot_profit = tot_buy_profit + tot_sell_profit\n",
    "profit_per_trade = tot_profit / len(y_pred)"
   ]
  },
  {
   "cell_type": "code",
   "execution_count": 98,
   "id": "17a58b42",
   "metadata": {
    "id": "17a58b42"
   },
   "outputs": [
    {
     "data": {
      "text/plain": [
       "(408729.9564361572, 882.7860830154584)"
      ]
     },
     "execution_count": 98,
     "metadata": {},
     "output_type": "execute_result"
    }
   ],
   "source": [
    "tot_profit, profit_per_trade"
   ]
  },
  {
   "cell_type": "code",
   "execution_count": 81,
   "id": "788ba738",
   "metadata": {
    "id": "788ba738"
   },
   "outputs": [
    {
     "data": {
      "text/plain": [
       "0.8099352051835853"
      ]
     },
     "execution_count": 81,
     "metadata": {},
     "output_type": "execute_result"
    }
   ],
   "source": [
    "accuracy"
   ]
  }
 ],
 "metadata": {
  "colab": {
   "collapsed_sections": [],
   "name": "prediction_cours_boursiers_LSTM.ipynb",
   "provenance": []
  },
  "kernelspec": {
   "display_name": "Python 3",
   "language": "python",
   "name": "python3"
  },
  "language_info": {
   "codemirror_mode": {
    "name": "ipython",
    "version": 3
   },
   "file_extension": ".py",
   "mimetype": "text/x-python",
   "name": "python",
   "nbconvert_exporter": "python",
   "pygments_lexer": "ipython3",
   "version": "3.6.9"
  }
 },
 "nbformat": 4,
 "nbformat_minor": 5
}
